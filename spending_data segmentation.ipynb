{
 "cells": [
  {
   "cell_type": "markdown",
   "id": "54bc0ee8",
   "metadata": {},
   "source": [
    "# <center>Data Mining Project Code</center>\n",
    "\n",
    "** **\n",
    "## <center>*Spending Data Segmentation*</center>\n",
    "\n",
    "** **\n",
    "\n",
    "In this notebook, we will implement different clustering methods in order to analyse and group customers by spending-related features.\n",
    "\n",
    "** **\n",
    "The members of the `team` are:\n",
    "- Ana Farinha  - 20211514\n",
    "- António Oliveira - 20211595\n",
    "- Mariana Neto - 20211527\n",
    "- Salvador Domingues - 20240597\n"
   ]
  },
  {
   "cell_type": "markdown",
   "id": "b349f819",
   "metadata": {},
   "source": [
    "# ToC\n",
    "\n",
    "<a class=\"anchor\" id=\"top\"></a>\n",
    "\n",
    "\n",
    "1. [Importing Libraries & Data](#1.-Importing-Libraries-&-Data) <br><br>\n",
    "\n",
    "2. [Clustering](#2.-Clustering) <br>\n",
    "\n",
    "    2.1 [Hierarchical Clustering](#2.1-Hierarchical-Clustering) <br><br>\n",
    "    2.2 [K-Means](#2.2-K-Means) <br><br>\n",
    "    2.3 [Self-Organizing Maps (SOM)](#2.3-Self-Organizing-Maps-(SOM)) <br><br>\n",
    "    2.4 [Density-based Clustering](#2.4-Density-based-Clustering) <br><br>\n",
    "    \n",
    "    &emsp; 2.4.1 [Meanshift](#2.4.1-Meanshift)<br><br>\n",
    "    &emsp; 2.4.2 [DBScan](#2.4.2-Density-Based-Spatial-Clustering-of-Applications-with-Noise-(DBSCAN))<br><br>\n",
    "    &emsp; 2.4.3 [HDBScan](#2.4.3-HDBScan)<br><br>\n",
    "    \n",
    "    \n",
    "    \n",
    "    \n",
    " "
   ]
  },
  {
   "cell_type": "markdown",
   "id": "3f6c1e7a",
   "metadata": {},
   "source": [
    "# 1. Importing Libraries & Data"
   ]
  },
  {
   "cell_type": "code",
   "execution_count": 2,
   "id": "088abf62",
   "metadata": {
    "ExecuteTime": {
     "end_time": "2025-01-04T14:51:31.713048Z",
     "start_time": "2025-01-04T14:51:28.407607Z"
    }
   },
   "outputs": [],
   "source": [
    "import pandas as pd\n",
    "import numpy as np\n",
    "from IPython.display import display \n",
    "\n",
    "# Scalers\n",
    "from sklearn.preprocessing import RobustScaler, StandardScaler, \\\n",
    "                                  MinMaxScaler\n",
    "\n",
    "# Clustering algorithms\n",
    "from sklearn.cluster import KMeans\n",
    "from sklearn.cluster import AgglomerativeClustering\n",
    "from sklearn.cluster import MeanShift, DBSCAN, estimate_bandwidth\n",
    "from hdbscan import HDBSCAN\n",
    "from sklearn.neighbors import NearestNeighbors\n",
    "from sklearn.mixture import GaussianMixture\n",
    "from minisom import MiniSom\n",
    "import umap.umap_ as umap\n",
    "\n",
    "# Segmentation\n",
    "import segmentation as s\n",
    "\n",
    "# Visualizations\n",
    "import matplotlib.pyplot as plt\n",
    "import functions as f\n",
    "\n",
    "pd.set_option('display.max_columns', None)\n",
    "\n",
    "# Suppress Warnings\n",
    "import warnings\n",
    "warnings.filterwarnings(\"ignore\")\n",
    "\n",
    "path = './plots/spending_data/'"
   ]
  },
  {
   "cell_type": "code",
   "execution_count": 3,
   "id": "1057c9c6",
   "metadata": {
    "ExecuteTime": {
     "end_time": "2025-01-04T14:51:32.075057Z",
     "start_time": "2025-01-04T14:51:31.714934Z"
    }
   },
   "outputs": [],
   "source": [
    "categorical_columns = [\n",
    "    'payment_method', 'promo_DELIVERY', 'promo_DISCOUNT', 'promo_FREEBIE',\n",
    "    'pay_CARD', 'pay_CASH', 'payment_method_enc', 'last_promo_enc'\n",
    "]\n",
    "\n",
    "data = pd.read_csv('data/data.csv', \n",
    "                   index_col = \"customer_id\")\n",
    "spending_data = data[s.spending_orders]\n",
    "spending_data = spending_data.drop(columns=categorical_columns)"
   ]
  },
  {
   "cell_type": "code",
   "execution_count": 4,
   "id": "0646079e",
   "metadata": {
    "ExecuteTime": {
     "end_time": "2025-01-04T14:51:32.146992Z",
     "start_time": "2025-01-04T14:51:32.076786Z"
    },
    "scrolled": true
   },
   "outputs": [
    {
     "data": {
      "text/html": [
       "<div>\n",
       "<style scoped>\n",
       "    .dataframe tbody tr th:only-of-type {\n",
       "        vertical-align: middle;\n",
       "    }\n",
       "\n",
       "    .dataframe tbody tr th {\n",
       "        vertical-align: top;\n",
       "    }\n",
       "\n",
       "    .dataframe thead th {\n",
       "        text-align: right;\n",
       "    }\n",
       "</style>\n",
       "<table border=\"1\" class=\"dataframe\">\n",
       "  <thead>\n",
       "    <tr style=\"text-align: right;\">\n",
       "      <th></th>\n",
       "      <th>count</th>\n",
       "      <th>mean</th>\n",
       "      <th>std</th>\n",
       "      <th>min</th>\n",
       "      <th>25%</th>\n",
       "      <th>50%</th>\n",
       "      <th>75%</th>\n",
       "      <th>max</th>\n",
       "    </tr>\n",
       "  </thead>\n",
       "  <tbody>\n",
       "    <tr>\n",
       "      <th>total_orders</th>\n",
       "      <td>30850.0</td>\n",
       "      <td>4.062982</td>\n",
       "      <td>4.037679</td>\n",
       "      <td>1.00</td>\n",
       "      <td>2.000000</td>\n",
       "      <td>3.000000</td>\n",
       "      <td>5.000</td>\n",
       "      <td>43.00</td>\n",
       "    </tr>\n",
       "    <tr>\n",
       "      <th>total_spend</th>\n",
       "      <td>30850.0</td>\n",
       "      <td>35.217035</td>\n",
       "      <td>36.037594</td>\n",
       "      <td>0.37</td>\n",
       "      <td>12.790000</td>\n",
       "      <td>23.910000</td>\n",
       "      <td>43.340</td>\n",
       "      <td>328.99</td>\n",
       "    </tr>\n",
       "    <tr>\n",
       "      <th>avg_spend_prod</th>\n",
       "      <td>30850.0</td>\n",
       "      <td>7.563675</td>\n",
       "      <td>4.061857</td>\n",
       "      <td>0.00</td>\n",
       "      <td>4.105179</td>\n",
       "      <td>6.926515</td>\n",
       "      <td>10.135</td>\n",
       "      <td>24.39</td>\n",
       "    </tr>\n",
       "    <tr>\n",
       "      <th>HR_1</th>\n",
       "      <td>30850.0</td>\n",
       "      <td>0.050859</td>\n",
       "      <td>0.291049</td>\n",
       "      <td>0.00</td>\n",
       "      <td>0.000000</td>\n",
       "      <td>0.000000</td>\n",
       "      <td>0.000</td>\n",
       "      <td>8.00</td>\n",
       "    </tr>\n",
       "    <tr>\n",
       "      <th>HR_2</th>\n",
       "      <td>30850.0</td>\n",
       "      <td>0.058023</td>\n",
       "      <td>0.304809</td>\n",
       "      <td>0.00</td>\n",
       "      <td>0.000000</td>\n",
       "      <td>0.000000</td>\n",
       "      <td>0.000</td>\n",
       "      <td>8.00</td>\n",
       "    </tr>\n",
       "    <tr>\n",
       "      <th>HR_3</th>\n",
       "      <td>30850.0</td>\n",
       "      <td>0.113679</td>\n",
       "      <td>0.476228</td>\n",
       "      <td>0.00</td>\n",
       "      <td>0.000000</td>\n",
       "      <td>0.000000</td>\n",
       "      <td>0.000</td>\n",
       "      <td>11.00</td>\n",
       "    </tr>\n",
       "    <tr>\n",
       "      <th>HR_4</th>\n",
       "      <td>30850.0</td>\n",
       "      <td>0.096564</td>\n",
       "      <td>0.398518</td>\n",
       "      <td>0.00</td>\n",
       "      <td>0.000000</td>\n",
       "      <td>0.000000</td>\n",
       "      <td>0.000</td>\n",
       "      <td>8.00</td>\n",
       "    </tr>\n",
       "    <tr>\n",
       "      <th>HR_5</th>\n",
       "      <td>30850.0</td>\n",
       "      <td>0.077796</td>\n",
       "      <td>0.339004</td>\n",
       "      <td>0.00</td>\n",
       "      <td>0.000000</td>\n",
       "      <td>0.000000</td>\n",
       "      <td>0.000</td>\n",
       "      <td>5.00</td>\n",
       "    </tr>\n",
       "    <tr>\n",
       "      <th>HR_6</th>\n",
       "      <td>30850.0</td>\n",
       "      <td>0.065413</td>\n",
       "      <td>0.309341</td>\n",
       "      <td>0.00</td>\n",
       "      <td>0.000000</td>\n",
       "      <td>0.000000</td>\n",
       "      <td>0.000</td>\n",
       "      <td>8.00</td>\n",
       "    </tr>\n",
       "    <tr>\n",
       "      <th>HR_7</th>\n",
       "      <td>30850.0</td>\n",
       "      <td>0.069465</td>\n",
       "      <td>0.313822</td>\n",
       "      <td>0.00</td>\n",
       "      <td>0.000000</td>\n",
       "      <td>0.000000</td>\n",
       "      <td>0.000</td>\n",
       "      <td>8.00</td>\n",
       "    </tr>\n",
       "    <tr>\n",
       "      <th>HR_8</th>\n",
       "      <td>30850.0</td>\n",
       "      <td>0.114489</td>\n",
       "      <td>0.425439</td>\n",
       "      <td>0.00</td>\n",
       "      <td>0.000000</td>\n",
       "      <td>0.000000</td>\n",
       "      <td>0.000</td>\n",
       "      <td>9.00</td>\n",
       "    </tr>\n",
       "    <tr>\n",
       "      <th>HR_9</th>\n",
       "      <td>30850.0</td>\n",
       "      <td>0.211151</td>\n",
       "      <td>0.621468</td>\n",
       "      <td>0.00</td>\n",
       "      <td>0.000000</td>\n",
       "      <td>0.000000</td>\n",
       "      <td>0.000</td>\n",
       "      <td>10.00</td>\n",
       "    </tr>\n",
       "    <tr>\n",
       "      <th>HR_10</th>\n",
       "      <td>30850.0</td>\n",
       "      <td>0.299287</td>\n",
       "      <td>0.754892</td>\n",
       "      <td>0.00</td>\n",
       "      <td>0.000000</td>\n",
       "      <td>0.000000</td>\n",
       "      <td>0.000</td>\n",
       "      <td>16.00</td>\n",
       "    </tr>\n",
       "    <tr>\n",
       "      <th>HR_11</th>\n",
       "      <td>30850.0</td>\n",
       "      <td>0.350762</td>\n",
       "      <td>0.827370</td>\n",
       "      <td>0.00</td>\n",
       "      <td>0.000000</td>\n",
       "      <td>0.000000</td>\n",
       "      <td>0.000</td>\n",
       "      <td>14.00</td>\n",
       "    </tr>\n",
       "    <tr>\n",
       "      <th>HR_12</th>\n",
       "      <td>30850.0</td>\n",
       "      <td>0.295138</td>\n",
       "      <td>0.747559</td>\n",
       "      <td>0.00</td>\n",
       "      <td>0.000000</td>\n",
       "      <td>0.000000</td>\n",
       "      <td>0.000</td>\n",
       "      <td>12.00</td>\n",
       "    </tr>\n",
       "    <tr>\n",
       "      <th>HR_13</th>\n",
       "      <td>30850.0</td>\n",
       "      <td>0.220908</td>\n",
       "      <td>0.578599</td>\n",
       "      <td>0.00</td>\n",
       "      <td>0.000000</td>\n",
       "      <td>0.000000</td>\n",
       "      <td>0.000</td>\n",
       "      <td>8.00</td>\n",
       "    </tr>\n",
       "    <tr>\n",
       "      <th>HR_14</th>\n",
       "      <td>30850.0</td>\n",
       "      <td>0.200778</td>\n",
       "      <td>0.541343</td>\n",
       "      <td>0.00</td>\n",
       "      <td>0.000000</td>\n",
       "      <td>0.000000</td>\n",
       "      <td>0.000</td>\n",
       "      <td>9.00</td>\n",
       "    </tr>\n",
       "    <tr>\n",
       "      <th>HR_15</th>\n",
       "      <td>30850.0</td>\n",
       "      <td>0.255721</td>\n",
       "      <td>0.648200</td>\n",
       "      <td>0.00</td>\n",
       "      <td>0.000000</td>\n",
       "      <td>0.000000</td>\n",
       "      <td>0.000</td>\n",
       "      <td>10.00</td>\n",
       "    </tr>\n",
       "    <tr>\n",
       "      <th>HR_16</th>\n",
       "      <td>30850.0</td>\n",
       "      <td>0.333096</td>\n",
       "      <td>0.791317</td>\n",
       "      <td>0.00</td>\n",
       "      <td>0.000000</td>\n",
       "      <td>0.000000</td>\n",
       "      <td>0.000</td>\n",
       "      <td>11.00</td>\n",
       "    </tr>\n",
       "    <tr>\n",
       "      <th>HR_17</th>\n",
       "      <td>30850.0</td>\n",
       "      <td>0.367618</td>\n",
       "      <td>0.851171</td>\n",
       "      <td>0.00</td>\n",
       "      <td>0.000000</td>\n",
       "      <td>0.000000</td>\n",
       "      <td>0.000</td>\n",
       "      <td>13.00</td>\n",
       "    </tr>\n",
       "    <tr>\n",
       "      <th>HR_18</th>\n",
       "      <td>30850.0</td>\n",
       "      <td>0.319579</td>\n",
       "      <td>0.805913</td>\n",
       "      <td>0.00</td>\n",
       "      <td>0.000000</td>\n",
       "      <td>0.000000</td>\n",
       "      <td>0.000</td>\n",
       "      <td>15.00</td>\n",
       "    </tr>\n",
       "    <tr>\n",
       "      <th>HR_19</th>\n",
       "      <td>30850.0</td>\n",
       "      <td>0.231475</td>\n",
       "      <td>0.692973</td>\n",
       "      <td>0.00</td>\n",
       "      <td>0.000000</td>\n",
       "      <td>0.000000</td>\n",
       "      <td>0.000</td>\n",
       "      <td>13.00</td>\n",
       "    </tr>\n",
       "    <tr>\n",
       "      <th>HR_20</th>\n",
       "      <td>30850.0</td>\n",
       "      <td>0.134684</td>\n",
       "      <td>0.494365</td>\n",
       "      <td>0.00</td>\n",
       "      <td>0.000000</td>\n",
       "      <td>0.000000</td>\n",
       "      <td>0.000</td>\n",
       "      <td>8.00</td>\n",
       "    </tr>\n",
       "    <tr>\n",
       "      <th>HR_21</th>\n",
       "      <td>30850.0</td>\n",
       "      <td>0.067844</td>\n",
       "      <td>0.319902</td>\n",
       "      <td>0.00</td>\n",
       "      <td>0.000000</td>\n",
       "      <td>0.000000</td>\n",
       "      <td>0.000</td>\n",
       "      <td>6.00</td>\n",
       "    </tr>\n",
       "    <tr>\n",
       "      <th>HR_22</th>\n",
       "      <td>30850.0</td>\n",
       "      <td>0.044700</td>\n",
       "      <td>0.259249</td>\n",
       "      <td>0.00</td>\n",
       "      <td>0.000000</td>\n",
       "      <td>0.000000</td>\n",
       "      <td>0.000</td>\n",
       "      <td>7.00</td>\n",
       "    </tr>\n",
       "    <tr>\n",
       "      <th>HR_23</th>\n",
       "      <td>30850.0</td>\n",
       "      <td>0.042075</td>\n",
       "      <td>0.248656</td>\n",
       "      <td>0.00</td>\n",
       "      <td>0.000000</td>\n",
       "      <td>0.000000</td>\n",
       "      <td>0.000</td>\n",
       "      <td>6.00</td>\n",
       "    </tr>\n",
       "    <tr>\n",
       "      <th>DOW_0</th>\n",
       "      <td>30850.0</td>\n",
       "      <td>0.512739</td>\n",
       "      <td>0.888870</td>\n",
       "      <td>0.00</td>\n",
       "      <td>0.000000</td>\n",
       "      <td>0.000000</td>\n",
       "      <td>1.000</td>\n",
       "      <td>10.00</td>\n",
       "    </tr>\n",
       "    <tr>\n",
       "      <th>DOW_1</th>\n",
       "      <td>30850.0</td>\n",
       "      <td>0.522917</td>\n",
       "      <td>0.911535</td>\n",
       "      <td>0.00</td>\n",
       "      <td>0.000000</td>\n",
       "      <td>0.000000</td>\n",
       "      <td>1.000</td>\n",
       "      <td>12.00</td>\n",
       "    </tr>\n",
       "    <tr>\n",
       "      <th>DOW_2</th>\n",
       "      <td>30850.0</td>\n",
       "      <td>0.545024</td>\n",
       "      <td>0.923611</td>\n",
       "      <td>0.00</td>\n",
       "      <td>0.000000</td>\n",
       "      <td>0.000000</td>\n",
       "      <td>1.000</td>\n",
       "      <td>12.00</td>\n",
       "    </tr>\n",
       "    <tr>\n",
       "      <th>DOW_3</th>\n",
       "      <td>30850.0</td>\n",
       "      <td>0.571896</td>\n",
       "      <td>0.944007</td>\n",
       "      <td>0.00</td>\n",
       "      <td>0.000000</td>\n",
       "      <td>0.000000</td>\n",
       "      <td>1.000</td>\n",
       "      <td>11.00</td>\n",
       "    </tr>\n",
       "    <tr>\n",
       "      <th>DOW_4</th>\n",
       "      <td>30850.0</td>\n",
       "      <td>0.631572</td>\n",
       "      <td>0.965287</td>\n",
       "      <td>0.00</td>\n",
       "      <td>0.000000</td>\n",
       "      <td>0.000000</td>\n",
       "      <td>1.000</td>\n",
       "      <td>10.00</td>\n",
       "    </tr>\n",
       "    <tr>\n",
       "      <th>DOW_5</th>\n",
       "      <td>30850.0</td>\n",
       "      <td>0.618185</td>\n",
       "      <td>0.971699</td>\n",
       "      <td>0.00</td>\n",
       "      <td>0.000000</td>\n",
       "      <td>0.000000</td>\n",
       "      <td>1.000</td>\n",
       "      <td>14.00</td>\n",
       "    </tr>\n",
       "    <tr>\n",
       "      <th>DOW_6</th>\n",
       "      <td>30850.0</td>\n",
       "      <td>0.660648</td>\n",
       "      <td>1.045782</td>\n",
       "      <td>0.00</td>\n",
       "      <td>0.000000</td>\n",
       "      <td>0.000000</td>\n",
       "      <td>1.000</td>\n",
       "      <td>13.00</td>\n",
       "    </tr>\n",
       "  </tbody>\n",
       "</table>\n",
       "</div>"
      ],
      "text/plain": [
       "                  count       mean        std   min        25%        50%  \\\n",
       "total_orders    30850.0   4.062982   4.037679  1.00   2.000000   3.000000   \n",
       "total_spend     30850.0  35.217035  36.037594  0.37  12.790000  23.910000   \n",
       "avg_spend_prod  30850.0   7.563675   4.061857  0.00   4.105179   6.926515   \n",
       "HR_1            30850.0   0.050859   0.291049  0.00   0.000000   0.000000   \n",
       "HR_2            30850.0   0.058023   0.304809  0.00   0.000000   0.000000   \n",
       "HR_3            30850.0   0.113679   0.476228  0.00   0.000000   0.000000   \n",
       "HR_4            30850.0   0.096564   0.398518  0.00   0.000000   0.000000   \n",
       "HR_5            30850.0   0.077796   0.339004  0.00   0.000000   0.000000   \n",
       "HR_6            30850.0   0.065413   0.309341  0.00   0.000000   0.000000   \n",
       "HR_7            30850.0   0.069465   0.313822  0.00   0.000000   0.000000   \n",
       "HR_8            30850.0   0.114489   0.425439  0.00   0.000000   0.000000   \n",
       "HR_9            30850.0   0.211151   0.621468  0.00   0.000000   0.000000   \n",
       "HR_10           30850.0   0.299287   0.754892  0.00   0.000000   0.000000   \n",
       "HR_11           30850.0   0.350762   0.827370  0.00   0.000000   0.000000   \n",
       "HR_12           30850.0   0.295138   0.747559  0.00   0.000000   0.000000   \n",
       "HR_13           30850.0   0.220908   0.578599  0.00   0.000000   0.000000   \n",
       "HR_14           30850.0   0.200778   0.541343  0.00   0.000000   0.000000   \n",
       "HR_15           30850.0   0.255721   0.648200  0.00   0.000000   0.000000   \n",
       "HR_16           30850.0   0.333096   0.791317  0.00   0.000000   0.000000   \n",
       "HR_17           30850.0   0.367618   0.851171  0.00   0.000000   0.000000   \n",
       "HR_18           30850.0   0.319579   0.805913  0.00   0.000000   0.000000   \n",
       "HR_19           30850.0   0.231475   0.692973  0.00   0.000000   0.000000   \n",
       "HR_20           30850.0   0.134684   0.494365  0.00   0.000000   0.000000   \n",
       "HR_21           30850.0   0.067844   0.319902  0.00   0.000000   0.000000   \n",
       "HR_22           30850.0   0.044700   0.259249  0.00   0.000000   0.000000   \n",
       "HR_23           30850.0   0.042075   0.248656  0.00   0.000000   0.000000   \n",
       "DOW_0           30850.0   0.512739   0.888870  0.00   0.000000   0.000000   \n",
       "DOW_1           30850.0   0.522917   0.911535  0.00   0.000000   0.000000   \n",
       "DOW_2           30850.0   0.545024   0.923611  0.00   0.000000   0.000000   \n",
       "DOW_3           30850.0   0.571896   0.944007  0.00   0.000000   0.000000   \n",
       "DOW_4           30850.0   0.631572   0.965287  0.00   0.000000   0.000000   \n",
       "DOW_5           30850.0   0.618185   0.971699  0.00   0.000000   0.000000   \n",
       "DOW_6           30850.0   0.660648   1.045782  0.00   0.000000   0.000000   \n",
       "\n",
       "                   75%     max  \n",
       "total_orders     5.000   43.00  \n",
       "total_spend     43.340  328.99  \n",
       "avg_spend_prod  10.135   24.39  \n",
       "HR_1             0.000    8.00  \n",
       "HR_2             0.000    8.00  \n",
       "HR_3             0.000   11.00  \n",
       "HR_4             0.000    8.00  \n",
       "HR_5             0.000    5.00  \n",
       "HR_6             0.000    8.00  \n",
       "HR_7             0.000    8.00  \n",
       "HR_8             0.000    9.00  \n",
       "HR_9             0.000   10.00  \n",
       "HR_10            0.000   16.00  \n",
       "HR_11            0.000   14.00  \n",
       "HR_12            0.000   12.00  \n",
       "HR_13            0.000    8.00  \n",
       "HR_14            0.000    9.00  \n",
       "HR_15            0.000   10.00  \n",
       "HR_16            0.000   11.00  \n",
       "HR_17            0.000   13.00  \n",
       "HR_18            0.000   15.00  \n",
       "HR_19            0.000   13.00  \n",
       "HR_20            0.000    8.00  \n",
       "HR_21            0.000    6.00  \n",
       "HR_22            0.000    7.00  \n",
       "HR_23            0.000    6.00  \n",
       "DOW_0            1.000   10.00  \n",
       "DOW_1            1.000   12.00  \n",
       "DOW_2            1.000   12.00  \n",
       "DOW_3            1.000   11.00  \n",
       "DOW_4            1.000   10.00  \n",
       "DOW_5            1.000   14.00  \n",
       "DOW_6            1.000   13.00  "
      ]
     },
     "execution_count": 4,
     "metadata": {},
     "output_type": "execute_result"
    }
   ],
   "source": [
    "spending_data.describe().T"
   ]
  },
  {
   "cell_type": "markdown",
   "id": "151b0a22",
   "metadata": {},
   "source": [
    "# 2. Clustering\n",
    "\n",
    "<a href=\"#top\">Top &#129033;</a>"
   ]
  },
  {
   "cell_type": "code",
   "execution_count": 5,
   "id": "31c6be84",
   "metadata": {
    "ExecuteTime": {
     "end_time": "2025-01-04T14:51:35.367999Z",
     "start_time": "2025-01-04T14:51:35.183863Z"
    }
   },
   "outputs": [],
   "source": [
    "import play_song as song"
   ]
  },
  {
   "cell_type": "markdown",
   "id": "8ef60098",
   "metadata": {},
   "source": [
    "**Scale Data Before Clustering**"
   ]
  },
  {
   "cell_type": "code",
   "execution_count": 6,
   "id": "77e0c14d",
   "metadata": {
    "ExecuteTime": {
     "end_time": "2025-01-04T14:51:36.070751Z",
     "start_time": "2025-01-04T14:51:36.057141Z"
    }
   },
   "outputs": [],
   "source": [
    "scaled_data = MinMaxScaler().fit_transform(spending_data)"
   ]
  },
  {
   "cell_type": "code",
   "execution_count": 7,
   "id": "c8565c40",
   "metadata": {
    "ExecuteTime": {
     "end_time": "2025-01-04T14:51:36.295692Z",
     "start_time": "2025-01-04T14:51:36.292656Z"
    }
   },
   "outputs": [],
   "source": [
    "scaled_data = pd.DataFrame(scaled_data, \n",
    "                           columns=spending_data.columns, \n",
    "                           index=spending_data.index)"
   ]
  },
  {
   "cell_type": "markdown",
   "id": "579f05d9",
   "metadata": {},
   "source": [
    "## 2.1 Hierarchical Clustering\n",
    "\n",
    "To develop a clustering solution using hierarchical clustering, the following steps were carried out:\n",
    "\n",
    "**1. Creating Dendrograms for All Combinations**\n",
    "- Dendrograms were generated for all combinations of linkage methods (e.g., single, complete, average, ward) and distance metrics (e.g., Euclidean, Manhattan).\n",
    "- This step provided a visual representation of the clustering hierarchy to understand how clusters merge at different thresholds.\n",
    "- The dendrograms were analysed to identify configurations that produced distinct and meaningful clusters.\n",
    "\n",
    "**2. Selecting the Best Combinations**\n",
    "- Based on the dendrograms, the most promising combinations of linkage methods and distance metrics were shortlisted.\n",
    "- The selection was based on:\n",
    "  - Clear separation of clusters (visible gaps in the dendrograms).\n",
    "  - Avoidance of configurations that produced excessive chaining effects or imbalanced clusters.\n",
    "- This step narrowed the scope to the most viable configurations.\n",
    "\n",
    "**3. Evaluating the Shortlisted Combinations**\n",
    "- The shortlisted configurations were quantitatively evaluated using the following metrics:\n",
    "  - **R² Score**: Measures how well the clustering structure explains the variance in the data. Higher values indicate a better-defined cluster structure.\n",
    "  - **Silhouette Score**: Evaluates the compactness and separation of clusters. Scores range from -1 (poor clustering) to 1 (ideal clustering), providing insights into cluster quality.\n",
    "  - **Calinski-Harabasz Score**: Assesses the ratio of the sum of cluster dispersion to inter-cluster distances. Higher values indicate well-separated and compact clusters.\n",
    "- By leveraging these metrics, the combination of linkage methods and distance metrics producing the highest-quality clusters was identified and selected.\n",
    "\n",
    "<a href=\"#top\">Top &#129033;</a>"
   ]
  },
  {
   "cell_type": "code",
   "execution_count": 8,
   "id": "cd90ba8c",
   "metadata": {
    "ExecuteTime": {
     "end_time": "2025-01-04T14:51:37.006847Z",
     "start_time": "2025-01-04T14:51:37.004449Z"
    }
   },
   "outputs": [],
   "source": [
    "linkages = [\"complete\", \"average\", \"single\", \"ward\"]"
   ]
  },
  {
   "cell_type": "code",
   "execution_count": 9,
   "id": "c1b9066c",
   "metadata": {
    "ExecuteTime": {
     "end_time": "2025-01-04T14:51:47.912169Z",
     "start_time": "2025-01-04T14:51:37.743635Z"
    },
    "collapsed": true
   },
   "outputs": [
    {
     "ename": "KeyboardInterrupt",
     "evalue": "",
     "output_type": "error",
     "traceback": [
      "\u001b[0;31m---------------------------------------------------------------------------\u001b[0m",
      "\u001b[0;31mKeyboardInterrupt\u001b[0m                         Traceback (most recent call last)",
      "Cell \u001b[0;32mIn[9], line 1\u001b[0m\n\u001b[0;32m----> 1\u001b[0m f\u001b[38;5;241m.\u001b[39mplot_hierarchical_dendrograms(scaled_data, \n\u001b[1;32m      2\u001b[0m                                 path\u001b[38;5;241m=\u001b[39mpath\u001b[38;5;241m+\u001b[39m\u001b[38;5;124m'\u001b[39m\u001b[38;5;124meuclidean\u001b[39m\u001b[38;5;124m'\u001b[39m, \n\u001b[1;32m      3\u001b[0m                                 linkages\u001b[38;5;241m=\u001b[39mlinkages, \n\u001b[1;32m      4\u001b[0m                                 metrics\u001b[38;5;241m=\u001b[39m[\u001b[38;5;124m'\u001b[39m\u001b[38;5;124meuclidean\u001b[39m\u001b[38;5;124m'\u001b[39m])\n",
      "File \u001b[0;32m~/Data Mining/data_mining/functions.py:277\u001b[0m, in \u001b[0;36mplot_hierarchical_dendrograms\u001b[0;34m(data, path, linkages, metrics)\u001b[0m\n\u001b[1;32m    272\u001b[0m \u001b[38;5;28;01mfor\u001b[39;00m linkage \u001b[38;5;129;01min\u001b[39;00m linkages:\n\u001b[1;32m    273\u001b[0m     \u001b[38;5;28;01mfor\u001b[39;00m metric \u001b[38;5;129;01min\u001b[39;00m metrics:\n\u001b[1;32m    274\u001b[0m         \u001b[38;5;66;03m# Perform AgglomerativeClustering with the current linkage and metric\u001b[39;00m\n\u001b[1;32m    275\u001b[0m         model \u001b[38;5;241m=\u001b[39m AgglomerativeClustering(\n\u001b[1;32m    276\u001b[0m             linkage\u001b[38;5;241m=\u001b[39mlinkage, distance_threshold\u001b[38;5;241m=\u001b[39m\u001b[38;5;241m0\u001b[39m, n_clusters\u001b[38;5;241m=\u001b[39m\u001b[38;5;28;01mNone\u001b[39;00m, metric\u001b[38;5;241m=\u001b[39mmetric\n\u001b[0;32m--> 277\u001b[0m         )\u001b[38;5;241m.\u001b[39mfit(data)\n\u001b[1;32m    279\u001b[0m         \u001b[38;5;66;03m# Plot dendrogram on the corresponding subplot\u001b[39;00m\n\u001b[1;32m    280\u001b[0m         ax \u001b[38;5;241m=\u001b[39m axes[plot_idx]  \u001b[38;5;66;03m# Get the corresponding axis\u001b[39;00m\n",
      "File \u001b[0;32m/opt/anaconda3/lib/python3.11/site-packages/sklearn/cluster/_agglomerative.py:956\u001b[0m, in \u001b[0;36mAgglomerativeClustering.fit\u001b[0;34m(self, X, y)\u001b[0m\n\u001b[1;32m    954\u001b[0m \u001b[38;5;28mself\u001b[39m\u001b[38;5;241m.\u001b[39m_validate_params()\n\u001b[1;32m    955\u001b[0m X \u001b[38;5;241m=\u001b[39m \u001b[38;5;28mself\u001b[39m\u001b[38;5;241m.\u001b[39m_validate_data(X, ensure_min_samples\u001b[38;5;241m=\u001b[39m\u001b[38;5;241m2\u001b[39m)\n\u001b[0;32m--> 956\u001b[0m \u001b[38;5;28;01mreturn\u001b[39;00m \u001b[38;5;28mself\u001b[39m\u001b[38;5;241m.\u001b[39m_fit(X)\n",
      "File \u001b[0;32m/opt/anaconda3/lib/python3.11/site-packages/sklearn/cluster/_agglomerative.py:1046\u001b[0m, in \u001b[0;36mAgglomerativeClustering._fit\u001b[0;34m(self, X)\u001b[0m\n\u001b[1;32m   1042\u001b[0m distance_threshold \u001b[38;5;241m=\u001b[39m \u001b[38;5;28mself\u001b[39m\u001b[38;5;241m.\u001b[39mdistance_threshold\n\u001b[1;32m   1044\u001b[0m return_distance \u001b[38;5;241m=\u001b[39m (distance_threshold \u001b[38;5;129;01mis\u001b[39;00m \u001b[38;5;129;01mnot\u001b[39;00m \u001b[38;5;28;01mNone\u001b[39;00m) \u001b[38;5;129;01mor\u001b[39;00m \u001b[38;5;28mself\u001b[39m\u001b[38;5;241m.\u001b[39mcompute_distances\n\u001b[0;32m-> 1046\u001b[0m out \u001b[38;5;241m=\u001b[39m memory\u001b[38;5;241m.\u001b[39mcache(tree_builder)(\n\u001b[1;32m   1047\u001b[0m     X,\n\u001b[1;32m   1048\u001b[0m     connectivity\u001b[38;5;241m=\u001b[39mconnectivity,\n\u001b[1;32m   1049\u001b[0m     n_clusters\u001b[38;5;241m=\u001b[39mn_clusters,\n\u001b[1;32m   1050\u001b[0m     return_distance\u001b[38;5;241m=\u001b[39mreturn_distance,\n\u001b[1;32m   1051\u001b[0m     \u001b[38;5;241m*\u001b[39m\u001b[38;5;241m*\u001b[39mkwargs,\n\u001b[1;32m   1052\u001b[0m )\n\u001b[1;32m   1053\u001b[0m (\u001b[38;5;28mself\u001b[39m\u001b[38;5;241m.\u001b[39mchildren_, \u001b[38;5;28mself\u001b[39m\u001b[38;5;241m.\u001b[39mn_connected_components_, \u001b[38;5;28mself\u001b[39m\u001b[38;5;241m.\u001b[39mn_leaves_, parents) \u001b[38;5;241m=\u001b[39m out[\n\u001b[1;32m   1054\u001b[0m     :\u001b[38;5;241m4\u001b[39m\n\u001b[1;32m   1055\u001b[0m ]\n\u001b[1;32m   1057\u001b[0m \u001b[38;5;28;01mif\u001b[39;00m return_distance:\n",
      "File \u001b[0;32m/opt/anaconda3/lib/python3.11/site-packages/joblib/memory.py:349\u001b[0m, in \u001b[0;36mNotMemorizedFunc.__call__\u001b[0;34m(self, *args, **kwargs)\u001b[0m\n\u001b[1;32m    348\u001b[0m \u001b[38;5;28;01mdef\u001b[39;00m \u001b[38;5;21m__call__\u001b[39m(\u001b[38;5;28mself\u001b[39m, \u001b[38;5;241m*\u001b[39margs, \u001b[38;5;241m*\u001b[39m\u001b[38;5;241m*\u001b[39mkwargs):\n\u001b[0;32m--> 349\u001b[0m     \u001b[38;5;28;01mreturn\u001b[39;00m \u001b[38;5;28mself\u001b[39m\u001b[38;5;241m.\u001b[39mfunc(\u001b[38;5;241m*\u001b[39margs, \u001b[38;5;241m*\u001b[39m\u001b[38;5;241m*\u001b[39mkwargs)\n",
      "File \u001b[0;32m/opt/anaconda3/lib/python3.11/site-packages/sklearn/cluster/_agglomerative.py:665\u001b[0m, in \u001b[0;36m_complete_linkage\u001b[0;34m(*args, **kwargs)\u001b[0m\n\u001b[1;32m    663\u001b[0m \u001b[38;5;28;01mdef\u001b[39;00m \u001b[38;5;21m_complete_linkage\u001b[39m(\u001b[38;5;241m*\u001b[39margs, \u001b[38;5;241m*\u001b[39m\u001b[38;5;241m*\u001b[39mkwargs):\n\u001b[1;32m    664\u001b[0m     kwargs[\u001b[38;5;124m\"\u001b[39m\u001b[38;5;124mlinkage\u001b[39m\u001b[38;5;124m\"\u001b[39m] \u001b[38;5;241m=\u001b[39m \u001b[38;5;124m\"\u001b[39m\u001b[38;5;124mcomplete\u001b[39m\u001b[38;5;124m\"\u001b[39m\n\u001b[0;32m--> 665\u001b[0m     \u001b[38;5;28;01mreturn\u001b[39;00m linkage_tree(\u001b[38;5;241m*\u001b[39margs, \u001b[38;5;241m*\u001b[39m\u001b[38;5;241m*\u001b[39mkwargs)\n",
      "File \u001b[0;32m/opt/anaconda3/lib/python3.11/site-packages/sklearn/cluster/_agglomerative.py:544\u001b[0m, in \u001b[0;36mlinkage_tree\u001b[0;34m(X, connectivity, n_clusters, linkage, affinity, return_distance)\u001b[0m\n\u001b[1;32m    542\u001b[0m     out \u001b[38;5;241m=\u001b[39m _hierarchical\u001b[38;5;241m.\u001b[39msingle_linkage_label(mst)\n\u001b[1;32m    543\u001b[0m \u001b[38;5;28;01melse\u001b[39;00m:\n\u001b[0;32m--> 544\u001b[0m     out \u001b[38;5;241m=\u001b[39m hierarchy\u001b[38;5;241m.\u001b[39mlinkage(X, method\u001b[38;5;241m=\u001b[39mlinkage, metric\u001b[38;5;241m=\u001b[39maffinity)\n\u001b[1;32m    545\u001b[0m children_ \u001b[38;5;241m=\u001b[39m out[:, :\u001b[38;5;241m2\u001b[39m]\u001b[38;5;241m.\u001b[39mastype(\u001b[38;5;28mint\u001b[39m, copy\u001b[38;5;241m=\u001b[39m\u001b[38;5;28;01mFalse\u001b[39;00m)\n\u001b[1;32m    547\u001b[0m \u001b[38;5;28;01mif\u001b[39;00m return_distance:\n",
      "File \u001b[0;32m/opt/anaconda3/lib/python3.11/site-packages/scipy/cluster/hierarchy.py:1059\u001b[0m, in \u001b[0;36mlinkage\u001b[0;34m(y, method, metric, optimal_ordering)\u001b[0m\n\u001b[1;32m   1055\u001b[0m         \u001b[38;5;28;01mif\u001b[39;00m np\u001b[38;5;241m.\u001b[39mall(y \u001b[38;5;241m>\u001b[39m\u001b[38;5;241m=\u001b[39m \u001b[38;5;241m0\u001b[39m) \u001b[38;5;129;01mand\u001b[39;00m np\u001b[38;5;241m.\u001b[39mallclose(y, y\u001b[38;5;241m.\u001b[39mT):\n\u001b[1;32m   1056\u001b[0m             _warning(\u001b[38;5;124m'\u001b[39m\u001b[38;5;124mThe symmetric non-negative hollow observation \u001b[39m\u001b[38;5;124m'\u001b[39m\n\u001b[1;32m   1057\u001b[0m                      \u001b[38;5;124m'\u001b[39m\u001b[38;5;124mmatrix looks suspiciously like an uncondensed \u001b[39m\u001b[38;5;124m'\u001b[39m\n\u001b[1;32m   1058\u001b[0m                      \u001b[38;5;124m'\u001b[39m\u001b[38;5;124mdistance matrix\u001b[39m\u001b[38;5;124m'\u001b[39m)\n\u001b[0;32m-> 1059\u001b[0m     y \u001b[38;5;241m=\u001b[39m distance\u001b[38;5;241m.\u001b[39mpdist(y, metric)\n\u001b[1;32m   1060\u001b[0m \u001b[38;5;28;01melse\u001b[39;00m:\n\u001b[1;32m   1061\u001b[0m     \u001b[38;5;28;01mraise\u001b[39;00m \u001b[38;5;167;01mValueError\u001b[39;00m(\u001b[38;5;124m\"\u001b[39m\u001b[38;5;124m`y` must be 1 or 2 dimensional.\u001b[39m\u001b[38;5;124m\"\u001b[39m)\n",
      "File \u001b[0;32m/opt/anaconda3/lib/python3.11/site-packages/scipy/spatial/distance.py:2220\u001b[0m, in \u001b[0;36mpdist\u001b[0;34m(X, metric, out, **kwargs)\u001b[0m\n\u001b[1;32m   2218\u001b[0m     pdist_fn \u001b[38;5;241m=\u001b[39m metric_info\u001b[38;5;241m.\u001b[39mpdist_func\n\u001b[1;32m   2219\u001b[0m     _extra_windows_error_checks(X, out, (m \u001b[38;5;241m*\u001b[39m (m \u001b[38;5;241m-\u001b[39m \u001b[38;5;241m1\u001b[39m) \u001b[38;5;241m/\u001b[39m \u001b[38;5;241m2\u001b[39m,), \u001b[38;5;241m*\u001b[39m\u001b[38;5;241m*\u001b[39mkwargs)\n\u001b[0;32m-> 2220\u001b[0m     \u001b[38;5;28;01mreturn\u001b[39;00m pdist_fn(X, out\u001b[38;5;241m=\u001b[39mout, \u001b[38;5;241m*\u001b[39m\u001b[38;5;241m*\u001b[39mkwargs)\n\u001b[1;32m   2221\u001b[0m \u001b[38;5;28;01melif\u001b[39;00m mstr\u001b[38;5;241m.\u001b[39mstartswith(\u001b[38;5;124m\"\u001b[39m\u001b[38;5;124mtest_\u001b[39m\u001b[38;5;124m\"\u001b[39m):\n\u001b[1;32m   2222\u001b[0m     metric_info \u001b[38;5;241m=\u001b[39m _TEST_METRICS\u001b[38;5;241m.\u001b[39mget(mstr, \u001b[38;5;28;01mNone\u001b[39;00m)\n",
      "\u001b[0;31mKeyboardInterrupt\u001b[0m: "
     ]
    },
    {
     "data": {
      "image/png": "[encoded data removed]",
      "text/plain": [
       "<Figure size 1400x1200 with 4 Axes>"
      ]
     },
     "metadata": {},
     "output_type": "display_data"
    }
   ],
   "source": [
    "f.plot_hierarchical_dendrograms(scaled_data, \n",
    "                                path=path+'euclidean', \n",
    "                                linkages=linkages, \n",
    "                                metrics=['euclidean'])"
   ]
  },
  {
   "cell_type": "code",
   "execution_count": null,
   "id": "7450b444",
   "metadata": {
    "ExecuteTime": {
     "end_time": "2025-01-04T14:51:22.806494Z",
     "start_time": "2025-01-04T14:51:22.806484Z"
    },
    "scrolled": true
   },
   "outputs": [],
   "source": [
    "f.plot_hierarchical_dendrograms(scaled_data, \n",
    "                                path=path+'others', \n",
    "                                linkages=linkages[:3], \n",
    "                                metrics=['l1', 'l2', 'manhattan',\n",
    "                                         'cosine'])"
   ]
  },
  {
   "cell_type": "code",
   "execution_count": 10,
   "id": "e7009465",
   "metadata": {
    "ExecuteTime": {
     "end_time": "2025-01-04T15:10:31.648000Z",
     "start_time": "2025-01-04T14:51:50.821258Z"
    }
   },
   "outputs": [
    {
     "data": {
      "text/html": [
       "<div>\n",
       "<style scoped>\n",
       "    .dataframe tbody tr th:only-of-type {\n",
       "        vertical-align: middle;\n",
       "    }\n",
       "\n",
       "    .dataframe tbody tr th {\n",
       "        vertical-align: top;\n",
       "    }\n",
       "\n",
       "    .dataframe thead th {\n",
       "        text-align: right;\n",
       "    }\n",
       "</style>\n",
       "<table border=\"1\" class=\"dataframe\">\n",
       "  <thead>\n",
       "    <tr style=\"text-align: right;\">\n",
       "      <th></th>\n",
       "      <th>Model</th>\n",
       "      <th>n_clusters</th>\n",
       "      <th>linkage</th>\n",
       "      <th>metric</th>\n",
       "      <th>R2</th>\n",
       "      <th>Silhouette</th>\n",
       "      <th>Calinski-Harabasz</th>\n",
       "    </tr>\n",
       "  </thead>\n",
       "  <tbody>\n",
       "    <tr>\n",
       "      <th>0</th>\n",
       "      <td>hierarchical</td>\n",
       "      <td>2</td>\n",
       "      <td>ward</td>\n",
       "      <td>euclidean</td>\n",
       "      <td>0.128885</td>\n",
       "      <td>0.438706</td>\n",
       "      <td>4564.086689</td>\n",
       "    </tr>\n",
       "    <tr>\n",
       "      <th>1</th>\n",
       "      <td>hierarchical</td>\n",
       "      <td>3</td>\n",
       "      <td>ward</td>\n",
       "      <td>euclidean</td>\n",
       "      <td>0.231338</td>\n",
       "      <td>0.156466</td>\n",
       "      <td>4641.898066</td>\n",
       "    </tr>\n",
       "    <tr>\n",
       "      <th>2</th>\n",
       "      <td>hierarchical</td>\n",
       "      <td>4</td>\n",
       "      <td>ward</td>\n",
       "      <td>euclidean</td>\n",
       "      <td>0.265704</td>\n",
       "      <td>0.128339</td>\n",
       "      <td>3720.536606</td>\n",
       "    </tr>\n",
       "    <tr>\n",
       "      <th>3</th>\n",
       "      <td>hierarchical</td>\n",
       "      <td>5</td>\n",
       "      <td>ward</td>\n",
       "      <td>euclidean</td>\n",
       "      <td>0.286441</td>\n",
       "      <td>0.065174</td>\n",
       "      <td>3095.498625</td>\n",
       "    </tr>\n",
       "    <tr>\n",
       "      <th>4</th>\n",
       "      <td>hierarchical</td>\n",
       "      <td>6</td>\n",
       "      <td>ward</td>\n",
       "      <td>euclidean</td>\n",
       "      <td>0.305402</td>\n",
       "      <td>0.066653</td>\n",
       "      <td>2712.314170</td>\n",
       "    </tr>\n",
       "    <tr>\n",
       "      <th>5</th>\n",
       "      <td>hierarchical</td>\n",
       "      <td>2</td>\n",
       "      <td>complete</td>\n",
       "      <td>l2</td>\n",
       "      <td>0.027076</td>\n",
       "      <td>0.680890</td>\n",
       "      <td>858.480491</td>\n",
       "    </tr>\n",
       "    <tr>\n",
       "      <th>6</th>\n",
       "      <td>hierarchical</td>\n",
       "      <td>3</td>\n",
       "      <td>complete</td>\n",
       "      <td>l2</td>\n",
       "      <td>0.027740</td>\n",
       "      <td>0.678760</td>\n",
       "      <td>440.057728</td>\n",
       "    </tr>\n",
       "    <tr>\n",
       "      <th>7</th>\n",
       "      <td>hierarchical</td>\n",
       "      <td>4</td>\n",
       "      <td>complete</td>\n",
       "      <td>l2</td>\n",
       "      <td>0.029586</td>\n",
       "      <td>0.666094</td>\n",
       "      <td>313.482459</td>\n",
       "    </tr>\n",
       "    <tr>\n",
       "      <th>8</th>\n",
       "      <td>hierarchical</td>\n",
       "      <td>2</td>\n",
       "      <td>complete</td>\n",
       "      <td>l1</td>\n",
       "      <td>0.001194</td>\n",
       "      <td>0.789651</td>\n",
       "      <td>36.862853</td>\n",
       "    </tr>\n",
       "    <tr>\n",
       "      <th>9</th>\n",
       "      <td>hierarchical</td>\n",
       "      <td>3</td>\n",
       "      <td>complete</td>\n",
       "      <td>l1</td>\n",
       "      <td>0.040220</td>\n",
       "      <td>0.676760</td>\n",
       "      <td>646.323251</td>\n",
       "    </tr>\n",
       "    <tr>\n",
       "      <th>10</th>\n",
       "      <td>hierarchical</td>\n",
       "      <td>4</td>\n",
       "      <td>complete</td>\n",
       "      <td>l1</td>\n",
       "      <td>0.041386</td>\n",
       "      <td>0.659240</td>\n",
       "      <td>443.903504</td>\n",
       "    </tr>\n",
       "    <tr>\n",
       "      <th>11</th>\n",
       "      <td>hierarchical</td>\n",
       "      <td>5</td>\n",
       "      <td>complete</td>\n",
       "      <td>l1</td>\n",
       "      <td>0.042359</td>\n",
       "      <td>0.659219</td>\n",
       "      <td>341.086784</td>\n",
       "    </tr>\n",
       "    <tr>\n",
       "      <th>12</th>\n",
       "      <td>hierarchical</td>\n",
       "      <td>6</td>\n",
       "      <td>complete</td>\n",
       "      <td>l1</td>\n",
       "      <td>0.052455</td>\n",
       "      <td>0.622212</td>\n",
       "      <td>341.499582</td>\n",
       "    </tr>\n",
       "    <tr>\n",
       "      <th>13</th>\n",
       "      <td>hierarchical</td>\n",
       "      <td>2</td>\n",
       "      <td>complete</td>\n",
       "      <td>manhattan</td>\n",
       "      <td>0.001194</td>\n",
       "      <td>0.789651</td>\n",
       "      <td>36.862853</td>\n",
       "    </tr>\n",
       "    <tr>\n",
       "      <th>14</th>\n",
       "      <td>hierarchical</td>\n",
       "      <td>3</td>\n",
       "      <td>complete</td>\n",
       "      <td>manhattan</td>\n",
       "      <td>0.040220</td>\n",
       "      <td>0.676760</td>\n",
       "      <td>646.323251</td>\n",
       "    </tr>\n",
       "    <tr>\n",
       "      <th>15</th>\n",
       "      <td>hierarchical</td>\n",
       "      <td>4</td>\n",
       "      <td>complete</td>\n",
       "      <td>manhattan</td>\n",
       "      <td>0.041386</td>\n",
       "      <td>0.659240</td>\n",
       "      <td>443.903504</td>\n",
       "    </tr>\n",
       "  </tbody>\n",
       "</table>\n",
       "</div>"
      ],
      "text/plain": [
       "           Model  n_clusters   linkage     metric        R2  Silhouette  \\\n",
       "0   hierarchical           2      ward  euclidean  0.128885    0.438706   \n",
       "1   hierarchical           3      ward  euclidean  0.231338    0.156466   \n",
       "2   hierarchical           4      ward  euclidean  0.265704    0.128339   \n",
       "3   hierarchical           5      ward  euclidean  0.286441    0.065174   \n",
       "4   hierarchical           6      ward  euclidean  0.305402    0.066653   \n",
       "5   hierarchical           2  complete         l2  0.027076    0.680890   \n",
       "6   hierarchical           3  complete         l2  0.027740    0.678760   \n",
       "7   hierarchical           4  complete         l2  0.029586    0.666094   \n",
       "8   hierarchical           2  complete         l1  0.001194    0.789651   \n",
       "9   hierarchical           3  complete         l1  0.040220    0.676760   \n",
       "10  hierarchical           4  complete         l1  0.041386    0.659240   \n",
       "11  hierarchical           5  complete         l1  0.042359    0.659219   \n",
       "12  hierarchical           6  complete         l1  0.052455    0.622212   \n",
       "13  hierarchical           2  complete  manhattan  0.001194    0.789651   \n",
       "14  hierarchical           3  complete  manhattan  0.040220    0.676760   \n",
       "15  hierarchical           4  complete  manhattan  0.041386    0.659240   \n",
       "\n",
       "    Calinski-Harabasz  \n",
       "0         4564.086689  \n",
       "1         4641.898066  \n",
       "2         3720.536606  \n",
       "3         3095.498625  \n",
       "4         2712.314170  \n",
       "5          858.480491  \n",
       "6          440.057728  \n",
       "7          313.482459  \n",
       "8           36.862853  \n",
       "9          646.323251  \n",
       "10         443.903504  \n",
       "11         341.086784  \n",
       "12         341.499582  \n",
       "13          36.862853  \n",
       "14         646.323251  \n",
       "15         443.903504  "
      ]
     },
     "execution_count": 10,
     "metadata": {},
     "output_type": "execute_result"
    }
   ],
   "source": [
    "hr_results = []\n",
    "\n",
    "# Define clustering settings\n",
    "cluster_settings = [\n",
    "    {\"model_type\": \"hierarchical\", \"n_clusters\": k, \"linkage\": 'ward', \"metric\": 'euclidean'}\n",
    "    for k in range(2,7)\n",
    "] + [\n",
    "    {\"model_type\": \"hierarchical\", \"n_clusters\": k, \"linkage\": 'complete', \"metric\": 'l2'}\n",
    "    for k in range(2, 5)\n",
    "] + [\n",
    "    {\"model_type\": \"hierarchical\", \"n_clusters\": k, \"linkage\": 'complete', \"metric\": 'l1'}\n",
    "    for k in range(2, 7)\n",
    "] + [\n",
    "    {\"model_type\": \"hierarchical\", \"n_clusters\": k, \"linkage\": 'complete', \"metric\": 'manhattan'}\n",
    "    for k in range(2, 5)\n",
    "] \n",
    "\n",
    "# Loop over settings and evaluate models\n",
    "for settings in cluster_settings:\n",
    "    result = f.create_and_evaluate_model(df=scaled_data, feats=scaled_data.columns.tolist(), **settings)\n",
    "    hr_results.append(result)\n",
    "\n",
    "# Convert results to DataFrame\n",
    "hr_results_df = pd.DataFrame(hr_results)\n",
    "hr_results_df"
   ]
  },
  {
   "cell_type": "code",
   "execution_count": 12,
   "id": "cb7f8539",
   "metadata": {
    "ExecuteTime": {
     "end_time": "2025-01-04T15:12:04.853865Z",
     "start_time": "2025-01-04T15:12:04.835757Z"
    }
   },
   "outputs": [],
   "source": [
    "hr_results_df.to_csv('./result_dfs/spending_data/hr_results_df.csv')"
   ]
  },
  {
   "cell_type": "code",
   "execution_count": 11,
   "id": "a033d3d7",
   "metadata": {
    "ExecuteTime": {
     "end_time": "2025-01-04T15:10:43.046916Z",
     "start_time": "2025-01-04T15:10:31.664253Z"
    }
   },
   "outputs": [
    {
     "name": "stderr",
     "output_type": "stream",
     "text": [
      "Input #0, wav, from '/var/folders/mm/fxsq_1490x9dd2w76tqvt3kr0000gn/T/tmpjnjx4gq2.wav':\n",
      "  Duration: 00:00:10.00, bitrate: 1536 kb/s\n",
      "  Stream #0:0: Audio: pcm_s16le ([1][0][0][0] / 0x0001), 48000 Hz, 2 channels, s16, 1536 kb/s\n",
      "   9.87 M-A:  0.000 fd=   0 aq=    0KB vq=    0KB sq=    0B \r"
     ]
    },
    {
     "name": "stdout",
     "output_type": "stream",
     "text": [
      "\n"
     ]
    },
    {
     "name": "stderr",
     "output_type": "stream",
     "text": [
      "   9.91 M-A:  0.000 fd=   0 aq=    0KB vq=    0KB sq=    0B \r",
      "   9.95 M-A:  0.000 fd=   0 aq=    0KB vq=    0KB sq=    0B \r"
     ]
    }
   ],
   "source": [
    "song.play_('audio.mp3')"
   ]
  },
  {
   "cell_type": "code",
   "execution_count": 13,
   "id": "3e790a53",
   "metadata": {
    "ExecuteTime": {
     "end_time": "2025-01-04T15:12:07.929993Z",
     "start_time": "2025-01-04T15:12:07.162687Z"
    }
   },
   "outputs": [
    {
     "data": {
      "image/png": "[encoded data removed]",
      "text/plain": [
       "<Figure size 1400x800 with 3 Axes>"
      ]
     },
     "metadata": {},
     "output_type": "display_data"
    }
   ],
   "source": [
    "f.plot_evaluation_scores(hr_results_df, path)"
   ]
  },
  {
   "cell_type": "markdown",
   "id": "3463c81d",
   "metadata": {},
   "source": [
    "**Final Model for Hierarchical Clustering**"
   ]
  },
  {
   "cell_type": "code",
   "execution_count": null,
   "id": "a5896b85",
   "metadata": {
    "ExecuteTime": {
     "end_time": "2025-01-04T14:51:22.810602Z",
     "start_time": "2025-01-04T14:51:22.810592Z"
    }
   },
   "outputs": [],
   "source": [
    "linkage = 'complete'\n",
    "distance = 'manhattan'\n",
    "n_clusters = 2\n",
    "\n",
    "hclust = AgglomerativeClustering(linkage=linkage, \n",
    "                                 metric=distance, \n",
    "                                 n_clusters=n_clusters)\n",
    "\n",
    "hc_labels = hclust.fit_predict(scaled_data)"
   ]
  },
  {
   "cell_type": "code",
   "execution_count": null,
   "id": "e970d02c",
   "metadata": {
    "ExecuteTime": {
     "end_time": "2025-01-04T14:51:22.811637Z",
     "start_time": "2025-01-04T14:51:22.811627Z"
    }
   },
   "outputs": [],
   "source": [
    "f.plot_cluster_profiling(spending_data, hc_labels, \"Hierarchical\")"
   ]
  },
  {
   "cell_type": "code",
   "execution_count": null,
   "id": "b3791c9b",
   "metadata": {
    "ExecuteTime": {
     "end_time": "2025-01-04T14:51:22.812611Z",
     "start_time": "2025-01-04T14:51:22.812601Z"
    }
   },
   "outputs": [],
   "source": [
    "umap_object = umap.UMAP(n_neighbors = 5)\n",
    "\n",
    "umap_embedding = umap_object.fit_transform(scaled_data)\n",
    "\n",
    "hc_labels2 = hclust.fit_predict(umap_embedding)\n",
    "\n",
    "f.plot_dim_reduction(umap_embedding, targets = hc_labels2,\n",
    "                   technique = 'Hierarchical Clustering \\\n",
    "                   visualised with UMAP')"
   ]
  },
  {
   "cell_type": "markdown",
   "id": "662ea1de",
   "metadata": {},
   "source": [
    "## 2.2 K-Means\n",
    "\n",
    "<a href=\"#top\">Top &#129033;</a>"
   ]
  },
  {
   "cell_type": "markdown",
   "id": "0e410a25",
   "metadata": {},
   "source": [
    "To develop an optimal clustering solution using the K-Means algorithm, the following steps were carried out:\n",
    "\n",
    "1. **Using the Elbow Method to Determine a Range for `n_clusters`**\n",
    "- We began by using the **Elbow Method** to determine an appropriate range of values for the `n_clusters` hyperparameter.\n",
    "- By plotting the within-cluster sum of squared distances (inertia) for a range of values of `n_clusters`, we identified the \"elbow point,\" where increasing the number of clusters resulted in diminishing improvements to the inertia.\n",
    "- This step provided a good initial estimate for the potential number of clusters and helped guide further testing.\n",
    "\n",
    "2. **Evaluating Different `n_clusters` Values**\n",
    "- After identifying a range of `n_clusters`, we evaluated different values of `n_clusters` based on various clustering quality metrics:\n",
    "  - **R² Score**\n",
    "  - **Silhouette Score**\n",
    "  - **Calinski-Harabasz Score**\n",
    "- These metrics allowed us to compare the effectiveness of each value for `n_clusters`, providing quantitative insights into cluster quality.\n",
    "\n",
    "3. **Selecting the Optimal `n_clusters`**\n",
    "- After evaluating multiple values for `n_clusters` with the metrics, we selected the value that showed the best balance across all three performance measures.\n",
    "- This value provided the most meaningful and stable clusters, indicating that the K-Means algorithm was able to separate the data in a way that maximized clustering quality.\n",
    "  \n",
    "By focusing primarily on tuning `n_clusters`, we ensured that our clustering solution was optimized and tailored to the specific dataset, ultimately delivering high-quality, interpretable clusters."
   ]
  },
  {
   "cell_type": "markdown",
   "id": "7ff7a955",
   "metadata": {},
   "source": [
    "**Elbow Method**"
   ]
  },
  {
   "cell_type": "markdown",
   "id": "4712e9de",
   "metadata": {},
   "source": [
    "The **Elbow Method** is a technique used to determine the optimal number of clusters (`n_clusters`) for K-Means clustering. It involves plotting the within-cluster sum of squared distances (inertia) against different values of `n_clusters`. As the number of clusters increases, the inertia decreases, but at a certain point, the rate of improvement slows down. \n",
    "\n",
    "The \"elbow\" is the point on the plot where the inertia starts to level off, indicating that adding more clusters does not lead to significant improvements in clustering quality. This point suggests the optimal number of clusters to use for the dataset, balancing between overfitting and underfitting the model.\n"
   ]
  },
  {
   "cell_type": "code",
   "execution_count": null,
   "id": "0bb7810a",
   "metadata": {
    "ExecuteTime": {
     "end_time": "2025-01-04T14:51:22.813887Z",
     "start_time": "2025-01-04T14:51:22.813876Z"
    },
    "scrolled": true
   },
   "outputs": [],
   "source": [
    "dispersion = []\n",
    "for k in range(1, 20):\n",
    "    kmeans = KMeans(n_clusters=k, random_state=0).fit(scaled_data)\n",
    "    dispersion.append(kmeans.inertia_)"
   ]
  },
  {
   "cell_type": "code",
   "execution_count": null,
   "id": "aa372764",
   "metadata": {
    "ExecuteTime": {
     "end_time": "2025-01-04T14:51:22.814930Z",
     "start_time": "2025-01-04T14:51:22.814921Z"
    }
   },
   "outputs": [],
   "source": [
    "plt.plot(range(1, 20), dispersion, marker='o', color='#4CAF50')\n",
    "plt.xlabel('Number of clusters')\n",
    "plt.ylabel('Dispersion (inertia)')\n",
    "plt.xticks(np.arange(0, 21, step=2))  \n",
    "# plt.vlines(7, 5000, 600000, color='red')\n",
    "\n",
    "plt.show()"
   ]
  },
  {
   "cell_type": "code",
   "execution_count": null,
   "id": "d209e610",
   "metadata": {
    "ExecuteTime": {
     "end_time": "2025-01-04T14:51:22.815971Z",
     "start_time": "2025-01-04T14:51:22.815961Z"
    }
   },
   "outputs": [],
   "source": [
    "results_kmeans = []\n",
    "\n",
    "# Define clustering settings\n",
    "cluster_settings = [\n",
    "    {\"model_type\": \"kmeans\", \"n_clusters\": k, 'random_state': 42} for k in range(2, 8)\n",
    "]\n",
    "\n",
    "# Loop over settings and evaluate models\n",
    "for settings in cluster_settings:\n",
    "    result = f.create_and_evaluate_model(df=scaled_data, feats=scaled_data.columns.tolist(), **settings)\n",
    "    results_kmeans.append(result)\n",
    "\n",
    "# Convert results to DataFrame\n",
    "results_kmeans_df = pd.DataFrame(results_kmeans)\n",
    "results_kmeans_df"
   ]
  },
  {
   "cell_type": "code",
   "execution_count": null,
   "id": "8f243461",
   "metadata": {
    "ExecuteTime": {
     "end_time": "2025-01-04T14:51:22.817162Z",
     "start_time": "2025-01-04T14:51:22.817151Z"
    }
   },
   "outputs": [],
   "source": [
    "f.plot_evaluation_scores(results_kmeans_df, path)"
   ]
  },
  {
   "cell_type": "code",
   "execution_count": null,
   "id": "fd544010",
   "metadata": {
    "ExecuteTime": {
     "end_time": "2025-01-04T14:51:22.818177Z",
     "start_time": "2025-01-04T14:51:22.818167Z"
    }
   },
   "outputs": [],
   "source": [
    "s.play_('audio.mp3')"
   ]
  },
  {
   "cell_type": "markdown",
   "id": "b25a8b0a",
   "metadata": {},
   "source": [
    "**Final Solution for K-Means**"
   ]
  },
  {
   "cell_type": "code",
   "execution_count": null,
   "id": "7eed9534",
   "metadata": {
    "ExecuteTime": {
     "end_time": "2025-01-04T14:51:22.819434Z",
     "start_time": "2025-01-04T14:51:22.819424Z"
    }
   },
   "outputs": [],
   "source": [
    "number_clusters = 3\n",
    "kmclust = KMeans(n_clusters=number_clusters, \n",
    "                 n_init=15, \n",
    "                 random_state=1)\n",
    "\n",
    "km_labels = kmclust.fit_predict(scaled_data)"
   ]
  },
  {
   "cell_type": "code",
   "execution_count": null,
   "id": "670db11e",
   "metadata": {
    "ExecuteTime": {
     "end_time": "2025-01-04T14:51:22.820592Z",
     "start_time": "2025-01-04T14:51:22.820582Z"
    }
   },
   "outputs": [],
   "source": [
    "f.plot_cluster_profiling(spending_data, km_labels, \"K-Means\")"
   ]
  },
  {
   "cell_type": "code",
   "execution_count": null,
   "id": "a3521fb4",
   "metadata": {
    "ExecuteTime": {
     "end_time": "2025-01-04T14:51:22.821726Z",
     "start_time": "2025-01-04T14:51:22.821715Z"
    }
   },
   "outputs": [],
   "source": [
    "umap_object = umap.UMAP(n_neighbors = 5)\n",
    "\n",
    "umap_embedding = umap_object.fit_transform(scaled_data)\n",
    "\n",
    "kmeans_labels = kmclust.fit_predict(umap_embedding)\n",
    "\n",
    "f.plot_dim_reduction(umap_embedding, targets = kmeans_labels,\n",
    "                   technique = 'K-Means visualised with UMAP')"
   ]
  },
  {
   "cell_type": "markdown",
   "id": "b6c1b4d0",
   "metadata": {},
   "source": [
    "## 2.3 Self-Organizing Maps (SOM)\n",
    "\n",
    "<a href=\"#top\">Top &#129033;</a>"
   ]
  },
  {
   "cell_type": "code",
   "execution_count": null,
   "id": "3683a384",
   "metadata": {
    "ExecuteTime": {
     "end_time": "2025-01-04T14:51:22.822742Z",
     "start_time": "2025-01-04T14:51:22.822731Z"
    }
   },
   "outputs": [],
   "source": [
    "# Training a Self-Organized Map with a 15 by 15 grid, using 52 features.\n",
    "som = MiniSom(\n",
    "    15, \n",
    "    15, \n",
    "    52,\n",
    "    sigma=0.5,\n",
    "    learning_rate=1,\n",
    "    neighborhood_function='gaussian',\n",
    "    random_seed=42\n",
    "    )"
   ]
  },
  {
   "cell_type": "code",
   "execution_count": null,
   "id": "ccfebb95",
   "metadata": {
    "ExecuteTime": {
     "end_time": "2025-01-04T14:51:22.823961Z",
     "start_time": "2025-01-04T14:51:22.823933Z"
    }
   },
   "outputs": [],
   "source": [
    "# Set the seed of Numpy just to be sure of replicability\n",
    "np.random.seed(42)\n",
    "\n",
    "num_iterations = 1000\n",
    "\n",
    "q_errors = []\n",
    "for i in range(1, num_iterations):\n",
    "    som.train_batch(scaled_data, i)\n",
    "    q_errors.append(som.quantization_error(scaled_data))"
   ]
  },
  {
   "cell_type": "code",
   "execution_count": null,
   "id": "38da99ce",
   "metadata": {
    "ExecuteTime": {
     "end_time": "2025-01-04T14:51:22.824998Z",
     "start_time": "2025-01-04T14:51:22.824987Z"
    }
   },
   "outputs": [],
   "source": [
    "plt.plot(q_errors)"
   ]
  },
  {
   "cell_type": "code",
   "execution_count": null,
   "id": "b7c7bf1d",
   "metadata": {
    "ExecuteTime": {
     "end_time": "2025-01-04T14:51:22.826199Z",
     "start_time": "2025-01-04T14:51:22.826189Z"
    }
   },
   "outputs": [],
   "source": [
    "# Setting up the same som again and retraining it \n",
    "som = MiniSom(\n",
    "    15, 15, 52, sigma=0.5, \n",
    "    learning_rate=1, neighborhood_function='gaussian', random_seed=42)\n",
    "som.train(scaled_data, 800)"
   ]
  },
  {
   "cell_type": "code",
   "execution_count": null,
   "id": "83d4e176",
   "metadata": {
    "ExecuteTime": {
     "end_time": "2025-01-04T14:51:22.827300Z",
     "start_time": "2025-01-04T14:51:22.827289Z"
    }
   },
   "outputs": [],
   "source": [
    "def plot_som_hexagons(som,\n",
    "                      matrix,\n",
    "                      cmap=cm.Blues,\n",
    "                      figsize=(20,20),\n",
    "                      annotate=True,\n",
    "                      title=\"SOM Matrix\",\n",
    "                      cbar_label=\"Color Scale\"\n",
    "                ):\n",
    "\n",
    "    xx, yy = som.get_euclidean_coordinates()\n",
    "\n",
    "    f = plt.figure(figsize=figsize)\n",
    "    ax = f.add_subplot(111)\n",
    "\n",
    "    ax.set_aspect('equal')\n",
    "    ax.set_title(title, fontsize=20)\n",
    "\n",
    "    colornorm = mpl_colors.Normalize(vmin=np.min(matrix), \n",
    "                                     vmax=np.max(matrix))\n",
    "\n",
    "    for i in range(xx.shape[0]):\n",
    "        for j in range(xx.shape[1]):\n",
    "            wy = yy[(i, j)] * np.sqrt(3) / 2\n",
    "            hexagon = RegularPolygon((xx[(i, j)], wy), \n",
    "                                 numVertices=6, \n",
    "                                 radius=.95 / np.sqrt(3),\n",
    "                                 facecolor=cmap(colornorm(matrix[i, j])), \n",
    "                                 alpha=1)\n",
    "            ax.add_patch(hexagon)\n",
    "\n",
    "            if annotate:\n",
    "                annot_vals = np.round(matrix[i, j],2)\n",
    "                if annot_vals > 1:\n",
    "                    annot_vals = int(annot_vals)\n",
    "                \n",
    "                ax.text(xx[(i, j)], wy, annot_vals, \n",
    "                        ha='center', va='center', \n",
    "                        fontsize=figsize[1], \n",
    "                        )\n",
    "\n",
    "    ax.margins(.05)\n",
    "    ax.axis(\"off\")\n",
    "\n",
    "    ## Create a Mappable object\n",
    "    cmap_sm = plt.cm.ScalarMappable(cmap=cmap, norm=colornorm)\n",
    "    cmap_sm.set_array([])\n",
    "    \n",
    "    divider = make_axes_locatable(plt.gca())\n",
    "    ax_cb = divider.new_horizontal(size=\"2%\", pad=0)    \n",
    "    cb1 = colorbar.ColorbarBase(ax_cb, \n",
    "                                orientation='vertical', \n",
    "                                alpha=1,\n",
    "                                mappable=cmap_sm\n",
    "                               )\n",
    "    cb1.ax.get_yaxis().labelpad = 16\n",
    "    cb1.ax.set_ylabel(cbar_label, fontsize=18)\n",
    "    plt.gcf().add_axes(ax_cb)\n",
    "\n",
    "    return plt"
   ]
  },
  {
   "cell_type": "code",
   "execution_count": null,
   "id": "101b069a",
   "metadata": {
    "ExecuteTime": {
     "end_time": "2025-01-04T14:51:22.828183Z",
     "start_time": "2025-01-04T14:51:22.828173Z"
    }
   },
   "outputs": [],
   "source": [
    "umatrix = som.distance_map(scaling='mean')\n",
    "\n",
    "fig = plot_som_hexagons(som, umatrix, cmap=cm.RdYlBu_r, title=\"SOM U-Matrix\")\n",
    "plt.show()"
   ]
  },
  {
   "cell_type": "markdown",
   "id": "db09cd64",
   "metadata": {},
   "source": [
    "## 2.4 Density-based Clustering\n",
    "\n",
    "<a href=\"#top\">Top &#129033;</a>"
   ]
  },
  {
   "cell_type": "code",
   "execution_count": null,
   "id": "36734332",
   "metadata": {
    "ExecuteTime": {
     "end_time": "2025-01-03T14:21:27.487147Z",
     "start_time": "2025-01-03T14:21:27.484188Z"
    }
   },
   "outputs": [],
   "source": []
  },
  {
   "cell_type": "markdown",
   "id": "885dbe31",
   "metadata": {},
   "source": [
    "### 2.4.1 Meanshift\n",
    "\n",
    "<a href=\"#top\">Top &#129033;</a>"
   ]
  },
  {
   "cell_type": "markdown",
   "id": "4c022d48",
   "metadata": {},
   "source": [
    "**Estimate Bandwidth**"
   ]
  },
  {
   "cell_type": "code",
   "execution_count": null,
   "id": "f47b372f",
   "metadata": {
    "ExecuteTime": {
     "end_time": "2025-01-04T14:51:22.829255Z",
     "start_time": "2025-01-04T14:51:22.829245Z"
    }
   },
   "outputs": [],
   "source": [
    "bandwidth = estimate_bandwidth(scaled_data)\n",
    "bandwidth"
   ]
  },
  {
   "cell_type": "code",
   "execution_count": null,
   "id": "7fb6f57e",
   "metadata": {
    "ExecuteTime": {
     "end_time": "2025-01-04T14:51:22.830306Z",
     "start_time": "2025-01-04T14:51:22.830296Z"
    }
   },
   "outputs": [],
   "source": [
    "ms_results = []\n",
    "\n",
    "# Define clustering settings\n",
    "cluster_settings = [\n",
    "    {\"model_type\": \"meanshift\", 'bandwidth': 0.650878409161391, 'cluster_all': True, 'min_bin_freq': k}\n",
    "    for k in range(1, 5)  \n",
    "] + [\n",
    "    {\"model_type\": \"meanshift\", 'bandwidth': 0.650878409161391, 'cluster_all': False, 'min_bin_freq': k}\n",
    "    for k in range(1, 5)  \n",
    "] \n",
    "# Loop over settings and evaluate models\n",
    "for settings in cluster_settings:\n",
    "    result = f.create_and_evaluate_model(df=scaled_data, feats=scaled_data.columns.tolist(), **settings)\n",
    "    ms_results.append(result)\n",
    "\n",
    "# Convert results to DataFrame\n",
    "ms_results_df = pd.DataFrame(ms_results)\n",
    "ms_results_df"
   ]
  },
  {
   "cell_type": "code",
   "execution_count": null,
   "id": "4bf815f4",
   "metadata": {
    "ExecuteTime": {
     "end_time": "2025-01-04T14:51:22.831113Z",
     "start_time": "2025-01-04T14:51:22.831103Z"
    }
   },
   "outputs": [],
   "source": [
    "s.play_('audio.mp3')"
   ]
  },
  {
   "cell_type": "code",
   "execution_count": null,
   "id": "54c2c111",
   "metadata": {
    "ExecuteTime": {
     "end_time": "2025-01-04T14:51:22.832420Z",
     "start_time": "2025-01-04T14:51:22.832410Z"
    }
   },
   "outputs": [],
   "source": [
    "ms = MeanShift(bandwidth=bandwidth, bin_seeding=True, n_jobs=4)\n",
    "\n",
    "msclust = ms.fit_predict(scaled_data)"
   ]
  },
  {
   "cell_type": "markdown",
   "id": "915e5fb9",
   "metadata": {},
   "source": [
    "### 2.4.2 Density-Based Spatial Clustering of Applications with Noise (DBSCAN)\n",
    "\n",
    "<a href=\"#top\">Top &#129033;</a>"
   ]
  },
  {
   "cell_type": "markdown",
   "id": "e796ce49",
   "metadata": {},
   "source": [
    "To initialize the DBSCAN clustering algorithm, we first constructed a **K-Distance Graph** to determine an appropriate range for the `eps` hyperparameter. The elbow point in the graph provided a starting point for selecting potential values of `eps`.\n",
    "\n",
    "With the range of `eps` values suggested by the plot, we tested several combinations of hyperparameters, including:  \n",
    "- Different values for `eps`.  \n",
    "- Different algorithm types (`'ball_tree'`, `'kd_tree'`, `'brute'`).  \n",
    "\n",
    "The combinations were then evaluated using the same metrics previously explained:\n",
    "- **R² Score**.  \n",
    "- **Silhouette Score**.  \n",
    "- **Calinski-Harabasz Score**.\n",
    "\n",
    "At the end, we choose our best dbscan solution.\n"
   ]
  },
  {
   "cell_type": "markdown",
   "id": "5b980bfe",
   "metadata": {},
   "source": [
    "**Optimimising *Eps* Parameter**"
   ]
  },
  {
   "cell_type": "markdown",
   "id": "6170c9df",
   "metadata": {},
   "source": [
    "To determine the optimal value for the `eps` parameter in **DBSCAN**, we started by constructing a **K-Distance Graph**. This approach helps visualize the distances to the k-th nearest neighbour for all points in the dataset and guides us in selecting an appropriate `eps` value. The **`eps` (epsilon)** parameter determines the maximum distance between two points to classify them as part of the same cluster in DBSCAN. \n",
    "\n",
    "\n",
    "\n",
    "The **K-Distance Graph** plots the sorted distances to each point’s k-th nearest neighbour. By observing the graph:\n",
    "\n",
    "1. Look for the **elbow point** in the curve. \n",
    "   - This is the region where the distances transition from a gradual increase to a sharp rise. \n",
    "   - The elbow indicates the maximum distance within a cluster before reaching outliers.\n",
    "\n",
    "2. Select an `eps` value slightly larger than the distance at the elbow.\n",
    "   - This ensures all points within dense clusters are captured without including many outliers.\n"
   ]
  },
  {
   "cell_type": "code",
   "execution_count": null,
   "id": "2f88092f",
   "metadata": {
    "ExecuteTime": {
     "end_time": "2025-01-04T14:51:22.833350Z",
     "start_time": "2025-01-04T14:51:22.833341Z"
    }
   },
   "outputs": [],
   "source": [
    "# K-distance graph to find the right eps value\n",
    "neigh = NearestNeighbors(n_neighbors=20)\n",
    "neigh.fit(spending_data)\n",
    "distances, _ = neigh.kneighbors(spending_data)\n",
    "distances = np.sort(distances[:, -1])  \n",
    "\n",
    "# Plot the distances\n",
    "plt.figure(figsize=(8, 5))\n",
    "plt.plot(distances, label=\"K-distances\", color = \"#568789\")\n",
    "plt.axhline(y=15, color='red', linestyle='--')\n",
    "plt.xlabel(\"Points (sorted by distance)\")\n",
    "plt.ylabel(\"K-distance\")\n",
    "plt.title(\"K-Distance Graph\")\n",
    "plt.legend()\n",
    "plt.show()"
   ]
  },
  {
   "cell_type": "markdown",
   "id": "0560821f",
   "metadata": {},
   "source": [
    "**Clustering**"
   ]
  },
  {
   "cell_type": "code",
   "execution_count": null,
   "id": "8813e35e",
   "metadata": {
    "ExecuteTime": {
     "end_time": "2025-01-04T14:51:22.834288Z",
     "start_time": "2025-01-04T14:51:22.834278Z"
    }
   },
   "outputs": [],
   "source": [
    "dbscan = DBSCAN(eps=15)  \n",
    "spending_data['dbscan'] = dbscan.fit_predict(scaled_data)\n",
    "spending_data['dbscan'].value_counts()"
   ]
  },
  {
   "cell_type": "code",
   "execution_count": null,
   "id": "617d3c3a",
   "metadata": {
    "ExecuteTime": {
     "end_time": "2025-01-04T14:51:22.835271Z",
     "start_time": "2025-01-04T14:51:22.835261Z"
    },
    "scrolled": true
   },
   "outputs": [],
   "source": [
    "db_results = []\n",
    "\n",
    "# Define clustering settings\n",
    "cluster_settings = [\n",
    "    {\"model_type\": \"dbscan\", \"eps\": k, \"algorithm\": 'ball_tree'}\n",
    "    for k in range(5, 15)  \n",
    "] + [\n",
    "    {\"model_type\": \"dbscan\", \"eps\": k, \"algorithm\": 'kd_tree'}\n",
    "    for k in range(5, 15)  \n",
    "] + [\n",
    "    {\"model_type\": \"dbscan\", \"eps\": k, \"algorithm\": 'brute'}\n",
    "    for k in range(5, 15)  \n",
    "]\n",
    "\n",
    "# Loop over settings and evaluate models\n",
    "for settings in cluster_settings:\n",
    "    result = create_and_evaluate_model2(df=scaled_data, feats=scaled_data.columns.tolist(), **settings)\n",
    "    db_results.append(result)\n",
    "\n",
    "# Convert results to DataFrame\n",
    "db_results_df = pd.DataFrame(db_results)\n",
    "db_results_df"
   ]
  },
  {
   "cell_type": "code",
   "execution_count": null,
   "id": "ad540eb8",
   "metadata": {
    "ExecuteTime": {
     "end_time": "2025-01-04T14:51:22.836403Z",
     "start_time": "2025-01-04T14:51:22.836392Z"
    }
   },
   "outputs": [],
   "source": [
    "plot_evaluation_scores(db_results_df, path+'DBScan_scores')"
   ]
  },
  {
   "cell_type": "markdown",
   "id": "9ef1e156",
   "metadata": {},
   "source": [
    "### 2.4.3 HDBScan\n",
    "\n",
    "<a href=\"#top\">Top &#129033;</a>"
   ]
  },
  {
   "cell_type": "code",
   "execution_count": null,
   "id": "c7a6f223",
   "metadata": {
    "ExecuteTime": {
     "end_time": "2025-01-04T14:51:22.837394Z",
     "start_time": "2025-01-04T14:51:22.837384Z"
    },
    "scrolled": true
   },
   "outputs": [],
   "source": [
    "hdbscan = HDBSCAN(min_cluster_size = 70, \n",
    "                  cluster_selection_method = 'leaf')\n",
    "spending_data['hdbscan_cluster'] = hdbscan.fit_predict(scaled_data)"
   ]
  },
  {
   "cell_type": "code",
   "execution_count": null,
   "id": "d646f368",
   "metadata": {
    "ExecuteTime": {
     "end_time": "2025-01-04T14:51:22.838479Z",
     "start_time": "2025-01-04T14:51:22.838470Z"
    }
   },
   "outputs": [],
   "source": [
    "spending_data['hdbscan_cluster'].value_counts()"
   ]
  },
  {
   "cell_type": "code",
   "execution_count": null,
   "id": "0553cca5",
   "metadata": {
    "ExecuteTime": {
     "end_time": "2025-01-04T14:51:22.839796Z",
     "start_time": "2025-01-04T14:51:22.839781Z"
    }
   },
   "outputs": [],
   "source": [
    "hdb_results = []\n",
    "\n",
    "# Define clustering settings\n",
    "cluster_settings = [\n",
    "    {\"model_type\": \"hdbscan\", \"min_cluster_size\": k, \"cluster_selection_method\": 'leaf'}\n",
    "    for k in range(5, 75, 10)  \n",
    "] + [\n",
    "    {\"model_type\": \"hdbscan\", \"min_cluster_size\": k, \"cluster_selection_method\": 'eom'}\n",
    "    for k in range(5, 75, 10)  \n",
    "]\n",
    "\n",
    "# Loop over settings and evaluate models\n",
    "for settings in cluster_settings:\n",
    "    result = f.create_and_evaluate_model(df=scaled_data, feats=scaled_data.columns.tolist(), **settings)\n",
    "    hdb_results.append(result)\n",
    "\n",
    "# Convert results to DataFrame\n",
    "hdb_results_df = pd.DataFrame(hdb_results)\n",
    "hdb_results_df"
   ]
  },
  {
   "cell_type": "code",
   "execution_count": null,
   "id": "5a00d384",
   "metadata": {
    "ExecuteTime": {
     "end_time": "2025-01-04T14:51:22.840763Z",
     "start_time": "2025-01-04T14:51:22.840753Z"
    }
   },
   "outputs": [],
   "source": [
    "f.plot_evaluation_scores(hdb_results_df, path+'HDBScan_scores')"
   ]
  },
  {
   "cell_type": "markdown",
   "id": "bcd89356",
   "metadata": {},
   "source": [
    "## 2.5 Gaussian Mixture Model (GMM)"
   ]
  },
  {
   "cell_type": "code",
   "execution_count": null,
   "id": "ae8273a3",
   "metadata": {
    "ExecuteTime": {
     "end_time": "2025-01-04T14:51:22.842082Z",
     "start_time": "2025-01-04T14:51:22.842072Z"
    }
   },
   "outputs": [],
   "source": [
    "# Performing GMM clustering\n",
    "gmm = GaussianMixture(n_components=4, covariance_type='full', n_init=10, init_params='kmeans', random_state=1)\n",
    "gmm_labels = gmm.fit_predict(scaled_data)\n",
    "labels_proba = gmm.predict_proba(scaled_data)"
   ]
  },
  {
   "cell_type": "code",
   "execution_count": null,
   "id": "b4d8316a",
   "metadata": {
    "ExecuteTime": {
     "end_time": "2025-01-04T14:51:22.843241Z",
     "start_time": "2025-01-04T14:51:22.843231Z"
    }
   },
   "outputs": [],
   "source": [
    "# The estimated component weights\n",
    "gmm.weights_"
   ]
  },
  {
   "cell_type": "code",
   "execution_count": null,
   "id": "7153e550",
   "metadata": {
    "ExecuteTime": {
     "end_time": "2025-01-04T14:51:22.844299Z",
     "start_time": "2025-01-04T14:51:22.844287Z"
    }
   },
   "outputs": [],
   "source": [
    "# The estimated mean vectors of the Components\n",
    "print(gmm.means_.shape)\n",
    "gmm.means_"
   ]
  },
  {
   "cell_type": "code",
   "execution_count": null,
   "id": "afc2c30d",
   "metadata": {
    "ExecuteTime": {
     "end_time": "2025-01-04T14:51:22.845138Z",
     "start_time": "2025-01-04T14:51:22.845129Z"
    }
   },
   "outputs": [],
   "source": [
    "# The estimated covariance matrices of the Components\n",
    "gmm.covariances_.shape"
   ]
  },
  {
   "cell_type": "code",
   "execution_count": null,
   "id": "3ec2042e",
   "metadata": {
    "ExecuteTime": {
     "end_time": "2025-01-04T14:51:22.846201Z",
     "start_time": "2025-01-04T14:51:22.846191Z"
    }
   },
   "outputs": [],
   "source": [
    "# This may take a while to run\n",
    "# \n",
    "# Selecting number of components based on AIC and BIC\n",
    "n_components = np.arange(1, 16)\n",
    "models = [GaussianMixture(n, covariance_type='full', n_init=10, random_state=1).fit(scaled_data)\n",
    "          for n in n_components]\n",
    "\n",
    "bic_values = [m.bic(scaled_data) for m in models]\n",
    "aic_values = [m.aic(scaled_data) for m in models]\n",
    "plt.plot(n_components, bic_values, label='BIC')\n",
    "plt.plot(n_components, aic_values, label='AIC')\n",
    "plt.legend(loc='best')\n",
    "plt.xlabel('n_components')\n",
    "plt.xticks(n_components)\n",
    "plt.show()"
   ]
  },
  {
   "cell_type": "code",
   "execution_count": null,
   "id": "8f216060",
   "metadata": {
    "ExecuteTime": {
     "end_time": "2025-01-04T14:51:22.847202Z",
     "start_time": "2025-01-04T14:51:22.847192Z"
    }
   },
   "outputs": [],
   "source": [
    "# Performing GMM clustering\n",
    "gmm = GaussianMixture(n_components=3, covariance_type='full', n_init=10, init_params='kmeans', random_state=1)\n",
    "gmm_labels = gmm.fit_predict(scaled_data)"
   ]
  },
  {
   "cell_type": "code",
   "execution_count": null,
   "id": "f6170ed1",
   "metadata": {
    "ExecuteTime": {
     "end_time": "2025-01-04T14:51:22.848559Z",
     "start_time": "2025-01-04T14:51:22.848548Z"
    }
   },
   "outputs": [],
   "source": [
    "# Concatenating the labels to spending_data\n",
    "spending_data_concat = pd.concat([scaled_data, pd.Series(gmm_labels, index=scaled_data.index, name=\"gmm_labels\")], axis=1)\n",
    "spending_data_concat.head()"
   ]
  },
  {
   "cell_type": "code",
   "execution_count": null,
   "id": "bb2c74d5",
   "metadata": {
    "ExecuteTime": {
     "end_time": "2025-01-04T14:51:22.849641Z",
     "start_time": "2025-01-04T14:51:22.849630Z"
    }
   },
   "outputs": [],
   "source": [
    "# Computing the R^2 of the cluster solution\n",
    "sst = f.get_ss(scaled_data)  # get total sum of squares\n",
    "ssw_labels = spending_data_concat.groupby(by='gmm_labels').apply(sst)  # compute ssw for each cluster labels\n",
    "ssb = sst - np.sum(ssw_labels)  # remember: SST = SSW + SSB\n",
    "r2 = ssb / sst\n",
    "print(\"Cluster solution with R^2 of %0.4f\" % r2)"
   ]
  },
  {
   "cell_type": "markdown",
   "id": "85671d1d",
   "metadata": {},
   "source": [
    "## 2.6 Self Organising Maps (SOM)\n",
    "\n",
    "<a href=\"#top\">Top &#129033;</a>"
   ]
  },
  {
   "cell_type": "markdown",
   "id": "e8661f12",
   "metadata": {},
   "source": [
    "som requires we work with an array and not DF"
   ]
  },
  {
   "cell_type": "code",
   "execution_count": null,
   "id": "dc33af6f",
   "metadata": {
    "ExecuteTime": {
     "end_time": "2025-01-04T14:51:22.850787Z",
     "start_time": "2025-01-04T14:51:22.850778Z"
    }
   },
   "outputs": [],
   "source": [
    "scaled_data_array = scaled_data.to_numpy()"
   ]
  },
  {
   "cell_type": "code",
   "execution_count": null,
   "id": "415cd59a",
   "metadata": {
    "ExecuteTime": {
     "end_time": "2025-01-04T14:51:22.851707Z",
     "start_time": "2025-01-04T14:51:22.851698Z"
    }
   },
   "outputs": [],
   "source": [
    "som = MiniSom(\n",
    "    15, \n",
    "    15, \n",
    "    len(scaled_data.columns),\n",
    "    sigma=0.5,\n",
    "    neighborhood_function='gaussian',\n",
    "    learning_rate = 1,\n",
    "    random_seed=42\n",
    "    )"
   ]
  },
  {
   "cell_type": "code",
   "execution_count": null,
   "id": "cab829ec",
   "metadata": {
    "ExecuteTime": {
     "end_time": "2025-01-04T14:51:22.852978Z",
     "start_time": "2025-01-04T14:51:22.852927Z"
    }
   },
   "outputs": [],
   "source": [
    "\n",
    "np.random.seed(42)\n",
    "\n",
    "num_iterations = 1000\n",
    "\n",
    "q_errors = []\n",
    "for i in range(1, num_iterations):\n",
    "    som.train_batch(scaled_data_array, i)\n",
    "    q_errors.append(som.quantization_error(scaled_data_array))"
   ]
  },
  {
   "cell_type": "code",
   "execution_count": null,
   "id": "18a5ce14",
   "metadata": {
    "ExecuteTime": {
     "end_time": "2025-01-04T14:51:22.854035Z",
     "start_time": "2025-01-04T14:51:22.854025Z"
    }
   },
   "outputs": [],
   "source": [
    "plt.plot(range(1, num_iterations), q_errors)\n",
    "plt.title('Quantization Error over Iterations')\n",
    "plt.xlabel('Iteration')\n",
    "plt.ylabel('Quantization Error')\n",
    "plt.axvline(x=760, color='red', linestyle='--')\n",
    "plt.show()"
   ]
  },
  {
   "cell_type": "markdown",
   "id": "dacc4a51",
   "metadata": {},
   "source": [
    "**Retrain SOM**\n",
    "\n",
    "After analysing the Error Plot, we decided to retrain our previously defined SOM model with **XXX** iterations."
   ]
  },
  {
   "cell_type": "code",
   "execution_count": null,
   "id": "9c1b9a13",
   "metadata": {
    "ExecuteTime": {
     "end_time": "2025-01-04T14:51:22.855358Z",
     "start_time": "2025-01-04T14:51:22.855348Z"
    }
   },
   "outputs": [],
   "source": [
    "som.train(scaled_data_array, 760)"
   ]
  },
  {
   "cell_type": "code",
   "execution_count": null,
   "id": "312c3036",
   "metadata": {
    "ExecuteTime": {
     "end_time": "2025-01-04T14:51:22.857792Z",
     "start_time": "2025-01-04T14:51:22.857778Z"
    }
   },
   "outputs": [],
   "source": [
    "umatrix = som.distance_map(scaling='mean')\n",
    "\n",
    "fig = f.plot_som_hexagons(som, umatrix, \n",
    "                          cmap=cm.Greens, \n",
    "                          title=\"SOM U-Matrix\")\n",
    "plt.show()"
   ]
  },
  {
   "cell_type": "markdown",
   "id": "6ff3d514",
   "metadata": {},
   "source": [
    "# 3. Model Comparison\n",
    "\n",
    "<a href=\"#top\">Top &#129033;</a>"
   ]
  },
  {
   "cell_type": "markdown",
   "id": "7d9e4f9e",
   "metadata": {},
   "source": [
    "Import Result Dataframes"
   ]
  },
  {
   "cell_type": "code",
   "execution_count": null,
   "id": "2457af82",
   "metadata": {
    "ExecuteTime": {
     "end_time": "2025-01-04T14:51:22.859371Z",
     "start_time": "2025-01-04T14:51:22.859357Z"
    }
   },
   "outputs": [],
   "source": [
    "# hr_results_df.to_csv('./result_dfs/spending_data/hr_results_df.csv')\n",
    "# results_kmeans_df.to_csv('./result_dfs/spending_data/results_kmeans_df.csv')\n",
    "# db_results_df.to_csv('./result_dfs/spending_data/db_results_df.csv')\n",
    "# hdb_results_df.to_csv('./result_dfs/spending_data/hdb_results_df.csv')"
   ]
  },
  {
   "cell_type": "code",
   "execution_count": null,
   "id": "4f2359a1",
   "metadata": {
    "ExecuteTime": {
     "end_time": "2025-01-04T14:51:22.860690Z",
     "start_time": "2025-01-04T14:51:22.860677Z"
    }
   },
   "outputs": [],
   "source": [
    "hr_results_df = pd.read_csv('./result_dfs/spending_data/hr_results_df.csv')\n",
    "results_kmeans_df = pd.read_csv('./result_dfs/spending_data/results_kmeans_df.csv')\n",
    "db_results_df = pd.read_csv('./result_dfs/spending_data/db_results_df.csv')\n",
    "hdb_results_df = pd.read_csv('./result_dfs/spending_data/hdb_results_df.csv')"
   ]
  },
  {
   "cell_type": "code",
   "execution_count": null,
   "id": "a61b62d3",
   "metadata": {
    "ExecuteTime": {
     "end_time": "2025-01-04T14:51:22.862315Z",
     "start_time": "2025-01-04T14:51:22.862293Z"
    }
   },
   "outputs": [],
   "source": [
    "dfs = [hr_results_df, results_kmeans_df, db_results_df, hdb_results_df]\n",
    "results_df = pd.concat(dfs)"
   ]
  },
  {
   "cell_type": "code",
   "execution_count": null,
   "id": "1a1d2dfc",
   "metadata": {
    "ExecuteTime": {
     "end_time": "2025-01-04T14:51:22.864647Z",
     "start_time": "2025-01-04T14:51:22.864629Z"
    }
   },
   "outputs": [],
   "source": [
    "# f.plot_evaluation_scores(results_df, path+'all')"
   ]
  }
 ],
 "metadata": {
  "kernelspec": {
   "display_name": "Python 3 (ipykernel)",
   "language": "python",
   "name": "python3"
  },
  "language_info": {
   "codemirror_mode": {
    "name": "ipython",
    "version": 3
   },
   "file_extension": ".py",
   "mimetype": "text/x-python",
   "name": "python",
   "nbconvert_exporter": "python",
   "pygments_lexer": "ipython3",
   "version": "3.11.9"
  }
 },
 "nbformat": 4,
 "nbformat_minor": 5
}
