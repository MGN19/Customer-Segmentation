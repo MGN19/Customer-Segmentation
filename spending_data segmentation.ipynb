{
 "cells": [
  {
   "cell_type": "markdown",
   "id": "54bc0ee8",
   "metadata": {},
   "source": [
    "# <center>Data Mining Project Code</center>\n",
    "\n",
    "** **\n",
    "## <center>*03 - XXXX*</center>\n",
    "\n",
    "** **\n",
    "\n",
    "In this notebook, we start our customer segmentation using two different partitioning methods: K-means and K-medoids. Each algorithm is going to be applied to different datasets which suffered from different transformations.\n",
    "\n",
    "The members of the `team` are:\n",
    "- Ana Farinha  - 20211514\n",
    "- António Oliveira - 20211595\n",
    "- Mariana Neto - 20211527\n",
    "- Salvador Domingues - 20240597\n"
   ]
  },
  {
   "cell_type": "markdown",
   "id": "b349f819",
   "metadata": {},
   "source": [
    "# ToC\n",
    "\n",
    "<a class=\"anchor\" id=\"top\"></a>\n",
    "\n",
    "\n",
    "1. [Importing Libraries & Data](#1.-Importing-Libraries-&-Data) <br><br>\n",
    "\n",
    "1. [Clustering](#2.-Clustering) <br><br>\n"
   ]
  },
  {
   "cell_type": "code",
   "execution_count": 5,
   "id": "088abf62",
   "metadata": {
    "ExecuteTime": {
     "end_time": "2024-12-25T15:28:05.742321Z",
     "start_time": "2024-12-25T15:28:02.711365Z"
    }
   },
   "outputs": [],
   "source": [
    "import pandas as pd\n",
    "import numpy as np\n",
    "from IPython.display import display \n",
    "\n",
    "# Scalers\n",
    "from sklearn.preprocessing import RobustScaler\n",
    "\n",
    "# Clustering algorithms\n",
    "from sklearn.cluster import KMeans\n",
    "\n",
    "# Segmentation\n",
    "import segmentation as s\n",
    "\n",
    "# Visualizations\n",
    "import matplotlib.pyplot as plt\n",
    "import functions as f\n",
    "\n",
    "pd.set_option('display.max_columns', None)\n",
    "\n",
    "# Suppress Warnings\n",
    "import warnings\n",
    "warnings.filterwarnings(\"ignore\")"
   ]
  },
  {
   "cell_type": "markdown",
   "id": "3f6c1e7a",
   "metadata": {},
   "source": [
    "# 1. Importing Libraries & Data"
   ]
  },
  {
   "cell_type": "code",
   "execution_count": null,
   "id": "1057c9c6",
   "metadata": {
    "ExecuteTime": {
     "end_time": "2024-12-25T15:28:06.313494Z",
     "start_time": "2024-12-25T15:28:05.745718Z"
    }
   },
   "outputs": [],
   "source": [
    "data = pd.read_csv('data/preprocessed_data.csv', \n",
    "                   index_col = \"customer_id\")\n",
    "spending_data = data[s.spending_orders]\n",
    "spending_data = data.select_dtypes(include=['float64', 'int64'])\n",
    "spending_data"
   ]
  },
  {
   "cell_type": "markdown",
   "id": "151b0a22",
   "metadata": {},
   "source": [
    "# 2. Clustering"
   ]
  },
  {
   "cell_type": "markdown",
   "id": "8ef60098",
   "metadata": {},
   "source": [
    "**Scale Data Before Clustering**"
   ]
  },
  {
   "cell_type": "code",
   "execution_count": 7,
   "id": "77e0c14d",
   "metadata": {},
   "outputs": [],
   "source": [
    "scaled_data = RobustScaler().fit_transform(spending_data)"
   ]
  },
  {
   "cell_type": "markdown",
   "id": "579f05d9",
   "metadata": {},
   "source": [
    "## 2.1 Hierarchical Clustering"
   ]
  },
  {
   "cell_type": "code",
   "execution_count": 8,
   "id": "b257c988",
   "metadata": {
    "ExecuteTime": {
     "end_time": "2024-12-25T15:45:31.077163Z",
     "start_time": "2024-12-25T15:45:31.073823Z"
    }
   },
   "outputs": [],
   "source": [
    "from sklearn.cluster import AgglomerativeClustering\n",
    "from scipy.cluster.hierarchy import dendrogram"
   ]
  },
  {
   "cell_type": "code",
   "execution_count": 9,
   "id": "cd90ba8c",
   "metadata": {
    "ExecuteTime": {
     "end_time": "2024-12-25T15:45:31.316040Z",
     "start_time": "2024-12-25T15:45:31.311551Z"
    }
   },
   "outputs": [],
   "source": [
    "linkages = ['ward', 'complete', 'average', 'single']"
   ]
  },
  {
   "cell_type": "markdown",
   "id": "83745228",
   "metadata": {},
   "source": [
    "**Dendrogram**"
   ]
  },
  {
   "cell_type": "code",
   "execution_count": null,
   "id": "c1b9066c",
   "metadata": {
    "ExecuteTime": {
     "end_time": "2024-12-24T12:11:19.649961Z",
     "start_time": "2024-12-24T12:07:17.189284Z"
    },
    "scrolled": true
   },
   "outputs": [],
   "source": [
    "for linkage in linkages:\n",
    "    agg_clust = AgglomerativeClustering(\n",
    "        linkage = linkage, distance_threshold = 0, n_clusters=None\n",
    "        ).fit(spending_data)\n",
    "    \n",
    "    fig, ax = plt.subplots()\n",
    "    plt.title(f\"Hierarchical Clustering with {linkage} Dendrogram\")\n",
    "    f.plot_dendrogram(agg_clust, truncate_mode=\"level\", p=10)\n",
    "    plt.show()"
   ]
  },
  {
   "cell_type": "markdown",
   "id": "64f5d23d",
   "metadata": {},
   "source": [
    "**R2**"
   ]
  },
  {
   "cell_type": "code",
   "execution_count": 10,
   "id": "0f57c0d8",
   "metadata": {
    "ExecuteTime": {
     "end_time": "2024-12-25T15:56:17.739617Z",
     "start_time": "2024-12-25T15:56:17.725206Z"
    }
   },
   "outputs": [],
   "source": [
    "# Let's wrap them into functions\n",
    "\n",
    "def get_ss(df, feats):\n",
    "    \"\"\"\n",
    "    Calculate the sum of squares (SS) for the given DataFrame.\n",
    "\n",
    "    The sum of squares is computed as the sum of the variances of each column\n",
    "    multiplied by the number of non-NA/null observations minus one.\n",
    "\n",
    "    Parameters:\n",
    "    df (pandas.DataFrame): The input DataFrame for which the sum of squares is to be calculated.\n",
    "    feats (list of str): A list of feature column names to be used in the calculation.\n",
    "\n",
    "    Returns:\n",
    "    float: The sum of squares of the DataFrame.\n",
    "    \"\"\"\n",
    "    df_ = df[feats]\n",
    "    ss = np.sum(df_.var() * (df_.count() - 1))\n",
    "    \n",
    "    return ss \n",
    "\n",
    "\n",
    "def get_ssb(df, feats, label_col):\n",
    "    \n",
    "    ssb_i = 0\n",
    "    for i in np.unique(df[label_col]):\n",
    "        df_ = df.loc[:, feats]\n",
    "        X_ = df_.values\n",
    "        X_k = df_.loc[df[label_col] == i].values\n",
    "        \n",
    "        ssb_i += (X_k.shape[0] * (np.square(X_k.mean(axis=0) - X_.mean(axis=0))) )\n",
    "\n",
    "    ssb = np.sum(ssb_i)\n",
    "    \n",
    "\n",
    "    return ssb\n",
    "\n",
    "\n",
    "def get_ssw(df, feats, label_col):\n",
    "\n",
    "    feats_label = feats+[label_col]\n",
    "\n",
    "    df_k = df[feats_label].groupby(by=label_col).apply(lambda col: get_ss(col, feats), \n",
    "                                                       include_groups=False)\n",
    "\n",
    "    return df_k.sum()\n",
    "\n"
   ]
  },
  {
   "cell_type": "code",
   "execution_count": 11,
   "id": "93c10959",
   "metadata": {
    "ExecuteTime": {
     "end_time": "2024-12-25T15:56:18.712523Z",
     "start_time": "2024-12-25T15:56:18.708960Z"
    },
    "scrolled": true
   },
   "outputs": [],
   "source": [
    "def get_rsq(df, feats, label_col):\n",
    "    df_sst_ = get_ss(df, feats)                 # get total sum of squares\n",
    "    df_ssw_ = get_ssw(df, feats, label_col)     # get ss within\n",
    "    df_ssb_ = df_sst_ - df_ssw_                 # get ss between\n",
    "\n",
    "    # r2 = ssb/sst \n",
    "    return (df_ssb_/df_sst_)\n",
    "    "
   ]
  },
  {
   "cell_type": "code",
   "execution_count": 12,
   "id": "d2a15344",
   "metadata": {
    "ExecuteTime": {
     "end_time": "2024-12-25T15:56:19.166253Z",
     "start_time": "2024-12-25T15:56:19.159669Z"
    }
   },
   "outputs": [],
   "source": [
    "def get_r2_hc(df, link_method, max_nclus, min_nclus=1, dist=\"euclidean\"):\n",
    "    r2 = []  # where we will store the R2 metrics for each cluster solution\n",
    "    feats = df.columns.tolist()\n",
    "    \n",
    "    for i in range(min_nclus, max_nclus+1):  # iterate over desired ncluster range\n",
    "        cluster = AgglomerativeClustering(n_clusters=i, metric=dist, linkage=link_method)\n",
    "        \n",
    "        #get cluster labels\n",
    "        hclabels = cluster.fit_predict(df) \n",
    "        \n",
    "        # concat df with labels\n",
    "        df_concat = pd.concat([df, pd.Series(hclabels, name='labels', index=df.index)], axis=1)  \n",
    "        \n",
    "        \n",
    "        # append the R2 of the given cluster solution\n",
    "        r2.append(get_rsq(df_concat, feats, 'labels'))\n",
    "        \n",
    "    return np.array(r2)\n"
   ]
  },
  {
   "cell_type": "code",
   "execution_count": null,
   "id": "e7009465",
   "metadata": {
    "ExecuteTime": {
     "end_time": "2024-12-25T16:17:18.870731Z",
     "start_time": "2024-12-25T15:56:19.714754Z"
    }
   },
   "outputs": [],
   "source": [
    "max_nclus = 8\n",
    "\n",
    "r2_hc = np.vstack([ f.get_r2_hc(spending_data, \n",
    "                              link, \n",
    "                              max_nclus=max_nclus, \n",
    "                              min_nclus=1, \n",
    "                              dist=\"euclidean\") \n",
    "                              for link in linkages])"
   ]
  },
  {
   "cell_type": "code",
   "execution_count": 43,
   "id": "63bf71de",
   "metadata": {
    "ExecuteTime": {
     "end_time": "2024-12-25T16:18:04.142009Z",
     "start_time": "2024-12-25T16:18:04.130961Z"
    }
   },
   "outputs": [],
   "source": [
    "r2_hc_methods = pd.DataFrame(r2_hc.T, \n",
    "                             index=range(1, max_nclus + 1), \n",
    "                             columns=linkages)"
   ]
  },
  {
   "cell_type": "code",
   "execution_count": null,
   "id": "3e790a53",
   "metadata": {
    "ExecuteTime": {
     "end_time": "2024-12-25T16:18:27.334251Z",
     "start_time": "2024-12-25T16:18:26.313839Z"
    }
   },
   "outputs": [],
   "source": [
    "sns.set()\n",
    "\n",
    "# Plot data\n",
    "fig = plt.figure(figsize=(11,5))\n",
    "sns.lineplot(data=r2_hc_methods, linewidth=2.5, markers=[\"o\"]*4)\n",
    "\n",
    "# Finalize the plot\n",
    "plt.legend(title=\"HC methods\", title_fontsize=11)\n",
    "plt.xticks(range(1, max_nclus + 1))\n",
    "plt.xlabel(\"Number of clusters\", fontsize=13)\n",
    "plt.ylabel(\"R2 metric\", fontsize=13)\n",
    "\n",
    "fig.suptitle(\"$R^2$ plot for various hierarchical methods\", fontsize=21)\n",
    "\n",
    "plt.show()"
   ]
  },
  {
   "cell_type": "markdown",
   "id": "3463c81d",
   "metadata": {},
   "source": [
    "**Final Solution for Hierarchical Clustering**"
   ]
  },
  {
   "cell_type": "code",
   "execution_count": 46,
   "id": "a5896b85",
   "metadata": {
    "ExecuteTime": {
     "end_time": "2024-12-25T16:22:51.847030Z",
     "start_time": "2024-12-25T16:22:05.224283Z"
    }
   },
   "outputs": [],
   "source": [
    "linkage = \"ward\"\n",
    "distance = \"euclidean\"\n",
    "n_clusters = 4\n",
    "\n",
    "hclust = AgglomerativeClustering(linkage=linkage, metric=distance, n_clusters=n_clusters)\n",
    "\n",
    "hc_labels = hclust.fit_predict(spending_data)"
   ]
  },
  {
   "cell_type": "code",
   "execution_count": null,
   "id": "e970d02c",
   "metadata": {
    "ExecuteTime": {
     "end_time": "2024-12-25T16:24:30.867408Z",
     "start_time": "2024-12-25T16:24:30.458841Z"
    }
   },
   "outputs": [],
   "source": [
    "f.plot_cluster_profiling(spending_data, hc_labels, \"Hierarchical\")"
   ]
  },
  {
   "cell_type": "markdown",
   "id": "662ea1de",
   "metadata": {},
   "source": [
    "## 2.2 K-Means"
   ]
  },
  {
   "cell_type": "code",
   "execution_count": 3,
   "id": "0bb7810a",
   "metadata": {
    "ExecuteTime": {
     "end_time": "2024-12-24T11:44:10.892908Z",
     "start_time": "2024-12-24T11:43:58.468887Z"
    },
    "scrolled": true
   },
   "outputs": [],
   "source": [
    "dispersion = []\n",
    "for k in range(1, 20):\n",
    "    kmeans = KMeans(n_clusters=k, random_state=0).fit(spending_data)\n",
    "    dispersion.append(kmeans.inertia_)"
   ]
  },
  {
   "cell_type": "markdown",
   "id": "7ff7a955",
   "metadata": {},
   "source": [
    "**Elbow Method**"
   ]
  },
  {
   "cell_type": "code",
   "execution_count": null,
   "id": "aa372764",
   "metadata": {
    "ExecuteTime": {
     "end_time": "2024-12-23T16:50:03.983811Z",
     "start_time": "2024-12-23T16:50:03.782465Z"
    }
   },
   "outputs": [],
   "source": [
    "plt.plot(range(1, 20), dispersion, marker='o', color='#4CAF50')\n",
    "plt.xlabel('Number of clusters')\n",
    "plt.ylabel('Dispersion (inertia)')\n",
    "plt.xticks(np.arange(0, 21, step=2))  \n",
    "#plt.vlines(7, 5000, 600000, color='red')\n",
    "\n",
    "plt.show()"
   ]
  },
  {
   "cell_type": "markdown",
   "id": "1fc343cd",
   "metadata": {},
   "source": [
    "**Histogram**"
   ]
  },
  {
   "cell_type": "code",
   "execution_count": 8,
   "id": "3d1967b0",
   "metadata": {
    "ExecuteTime": {
     "end_time": "2024-12-25T15:31:34.758344Z",
     "start_time": "2024-12-25T15:31:34.755416Z"
    }
   },
   "outputs": [],
   "source": [
    "possible_k = [2, 3, 4, 5, 6, 7, 8]"
   ]
  },
  {
   "cell_type": "code",
   "execution_count": null,
   "id": "d209e610",
   "metadata": {
    "ExecuteTime": {
     "end_time": "2024-12-25T14:45:40.978950Z",
     "start_time": "2024-12-25T14:45:37.076750Z"
    },
    "scrolled": true
   },
   "outputs": [],
   "source": [
    "for k in possible_k:\n",
    "    \n",
    "    spending_data_copy = spending_data.copy()\n",
    "    \n",
    "    kmeans = KMeans(n_clusters=k, random_state=42)  \n",
    "    kmeans.fit(spending_data_copy)  \n",
    "    clusters  = kmeans.predict(spending_data_copy)  \n",
    "    \n",
    "    spending_data_copy[f'cluster_kmeans{k}'] = clusters \n",
    "    \n",
    "    spending_data_copy.groupby([f'cluster_kmeans{k}']).size().plot(kind='bar', \n",
    "                                                          color='#4CAF50') \n",
    "    plt.title(f'Cluster Sizes for k={k}')\n",
    "    plt.show()"
   ]
  },
  {
   "cell_type": "markdown",
   "id": "63fe7458",
   "metadata": {},
   "source": [
    "**Means**"
   ]
  },
  {
   "cell_type": "code",
   "execution_count": null,
   "id": "6e6a55d3",
   "metadata": {
    "ExecuteTime": {
     "end_time": "2024-12-25T14:45:54.758773Z",
     "start_time": "2024-12-25T14:45:52.093413Z"
    },
    "scrolled": true
   },
   "outputs": [],
   "source": [
    "for k in possible_k:\n",
    "    kmeans = KMeans(n_clusters=k, random_state=42)  \n",
    "    kmeans.fit(spending_data)  \n",
    "    clusters = kmeans.predict(spending_data)  \n",
    "\n",
    "    # Add the cluster assignments to the DataFrame\n",
    "    data[f'cluster_kmeans{k}'] = clusters \n",
    "\n",
    "    # Compute mean values grouped by clusters and transpose\n",
    "    cluster_means = spending_data.groupby([f'cluster_kmeans{k}']).mean().T\n",
    "\n",
    "    print(f\"\\nMean values for k={k}:\")\n",
    "    display(cluster_means)"
   ]
  },
  {
   "cell_type": "markdown",
   "id": "216a793e",
   "metadata": {},
   "source": [
    "**Silhouette Score**"
   ]
  },
  {
   "cell_type": "code",
   "execution_count": null,
   "id": "770f75d9",
   "metadata": {
    "ExecuteTime": {
     "end_time": "2024-12-25T15:35:18.329841Z",
     "start_time": "2024-12-25T15:31:43.553577Z"
    },
    "scrolled": true
   },
   "outputs": [],
   "source": [
    "avg_silhouette = f.plot_silhouette(spending_data, possible_k)"
   ]
  },
  {
   "cell_type": "code",
   "execution_count": null,
   "id": "58887a8e",
   "metadata": {
    "ExecuteTime": {
     "end_time": "2024-12-25T15:35:18.544288Z",
     "start_time": "2024-12-25T15:35:18.336749Z"
    },
    "scrolled": false
   },
   "outputs": [],
   "source": [
    "plt.figure(figsize=(9, 5))\n",
    "plt.plot(possible_k, avg_silhouette, marker='o', label='Average Silhouette')\n",
    "plt.ylabel(\"Average Silhouette Score\")\n",
    "plt.xlabel(\"Number of Clusters\")\n",
    "plt.title(\"Average Silhouette Plot over Clusters\", fontsize=15)\n",
    "plt.xticks(possible_k)\n",
    "plt.grid(alpha=0.5)\n",
    "plt.legend()\n",
    "plt.show()\n"
   ]
  },
  {
   "cell_type": "markdown",
   "id": "b25a8b0a",
   "metadata": {},
   "source": [
    "**Final Solution for K-Means**"
   ]
  },
  {
   "cell_type": "code",
   "execution_count": null,
   "id": "7eed9534",
   "metadata": {
    "ExecuteTime": {
     "end_time": "2024-12-25T15:36:45.559478Z",
     "start_time": "2024-12-25T15:36:45.195491Z"
    }
   },
   "outputs": [],
   "source": [
    "number_clusters = 3\n",
    "kmclust = KMeans(n_clusters=number_clusters, \n",
    "                 init='k-means++', \n",
    "                 n_init=15, \n",
    "                 random_state=1)\n",
    "\n",
    "km_labels = kmclust.fit_predict(spending_data)\n",
    "km_labels"
   ]
  },
  {
   "cell_type": "code",
   "execution_count": null,
   "id": "670db11e",
   "metadata": {
    "ExecuteTime": {
     "end_time": "2024-12-25T16:25:12.495616Z",
     "start_time": "2024-12-25T16:25:12.111611Z"
    }
   },
   "outputs": [],
   "source": [
    "f.plot_cluster_profiling(spending_data, km_labels, \"K-Means\")"
   ]
  },
  {
   "cell_type": "markdown",
   "id": "db09cd64",
   "metadata": {},
   "source": [
    "## 2.3 DB Scan"
   ]
  },
  {
   "cell_type": "code",
   "execution_count": 53,
   "id": "36734332",
   "metadata": {
    "ExecuteTime": {
     "end_time": "2024-12-25T16:27:18.921243Z",
     "start_time": "2024-12-25T16:27:18.918828Z"
    }
   },
   "outputs": [],
   "source": [
    "from sklearn.cluster import DBSCAN#, HDBSCAN"
   ]
  },
  {
   "cell_type": "code",
   "execution_count": null,
   "id": "8813e35e",
   "metadata": {
    "ExecuteTime": {
     "end_time": "2024-12-25T16:27:19.683887Z",
     "start_time": "2024-12-25T16:27:19.665775Z"
    }
   },
   "outputs": [],
   "source": [
    "dbscan = DBSCAN(eps=15, min_samples=5)  \n",
    "spending_data['dbscan_cluster_1'] = dbscan.fit_predict(scaled_data)\n",
    "spending_data['dbscan_cluster_1'].value_counts()"
   ]
  },
  {
   "cell_type": "code",
   "execution_count": null,
   "id": "eb925101",
   "metadata": {},
   "outputs": [],
   "source": [
    "# Create a bar chart of the number of customers in each cluster\n",
    "cluster_counts = spending_data.groupby(['dbscan_cluster_1']).size()\n",
    "ax = cluster_counts.plot(kind='bar', color='#4CAF50')\n",
    "\n",
    "# Add labels to the x and y axes\n",
    "plt.xlabel('Cluster')\n",
    "plt.ylabel('Number of Customers')\n",
    "plt.xticks(rotation=0)\n",
    "\n",
    "# Show the plot\n",
    "plt.show()"
   ]
  },
  {
   "cell_type": "markdown",
   "id": "9ef1e156",
   "metadata": {},
   "source": [
    "### 2.3.1 HDB Scan"
   ]
  },
  {
   "cell_type": "code",
   "execution_count": null,
   "id": "c7a6f223",
   "metadata": {},
   "outputs": [],
   "source": []
  },
  {
   "cell_type": "markdown",
   "id": "f5bd59fb",
   "metadata": {},
   "source": [
    "## 2.? UMAP"
   ]
  },
  {
   "cell_type": "code",
   "execution_count": 21,
   "id": "d0d794cd",
   "metadata": {
    "ExecuteTime": {
     "end_time": "2024-12-24T12:15:01.409828Z",
     "start_time": "2024-12-24T12:14:55.460889Z"
    }
   },
   "outputs": [],
   "source": [
    "import umap.umap_ as umap"
   ]
  },
  {
   "cell_type": "code",
   "execution_count": 32,
   "id": "b9c3514a",
   "metadata": {
    "ExecuteTime": {
     "end_time": "2024-12-24T12:17:41.583706Z",
     "start_time": "2024-12-24T12:17:41.565250Z"
    }
   },
   "outputs": [],
   "source": [
    "umap_object = umap.UMAP(n_neighbors=10, min_dist=0.1)"
   ]
  },
  {
   "cell_type": "code",
   "execution_count": 33,
   "id": "bbe09ec4",
   "metadata": {
    "ExecuteTime": {
     "end_time": "2024-12-24T12:18:02.797070Z",
     "start_time": "2024-12-24T12:17:41.927483Z"
    }
   },
   "outputs": [],
   "source": [
    "num_ordered = spending_data.sort_index()\n",
    "umap_embedding = umap_object.fit_transform(num_ordered)"
   ]
  },
  {
   "cell_type": "code",
   "execution_count": null,
   "id": "6c85834b",
   "metadata": {
    "ExecuteTime": {
     "end_time": "2024-12-24T12:18:03.017050Z",
     "start_time": "2024-12-24T12:18:02.799931Z"
    }
   },
   "outputs": [],
   "source": [
    "f.plot_dim_reduction(umap_embedding)"
   ]
  },
  {
   "cell_type": "code",
   "execution_count": null,
   "id": "1891e453",
   "metadata": {},
   "outputs": [],
   "source": []
  }
 ],
 "metadata": {
  "kernelspec": {
   "display_name": "Python 3",
   "language": "python",
   "name": "python3"
  },
  "language_info": {
   "codemirror_mode": {
    "name": "ipython",
    "version": 3
   },
   "file_extension": ".py",
   "mimetype": "text/x-python",
   "name": "python",
   "nbconvert_exporter": "python",
   "pygments_lexer": "ipython3",
   "version": "3.10.2"
  }
 },
 "nbformat": 4,
 "nbformat_minor": 5
}
