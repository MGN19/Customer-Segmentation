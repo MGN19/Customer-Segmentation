{
 "cells": [
  {
   "cell_type": "markdown",
   "metadata": {
    "vscode": {
     "languageId": "plaintext"
    }
   },
   "source": [
    "# <center>Data Mining Project Code</center>\n",
    "\n",
    "** **\n",
    "## <center>*05 - Density-based Notebook*</center>\n",
    "\n",
    "** **\n",
    "\n",
    "In this notebook, we continue our customer segmentation using four different Density-Based clustering methods: DBScan, HDBSCAN, Meanshift and OPTICS. Each algorithm is going to be applied to different datasets which suffered from different transformations.\n",
    "\n",
    "\n",
    "The members of the `team` are:\n",
    "- Ana Farinha  - 20211514\n",
    "- António Oliveira - 20211595\n",
    "- Mariana Neto - 20211527\n",
    "- Salvador Domingues - 20240597\n"
   ]
  },
  {
   "cell_type": "markdown",
   "metadata": {},
   "source": [
    "# Table of Contents\n",
    "\n",
    "<a class=\"anchor\" id=\"top\"></a>\n",
    "\n",
    "\n",
    "1. [Importing Libraries & Data](#1.-Importing-Libraries-&-Data) <br><br>\n",
    "\n"
   ]
  },
  {
   "cell_type": "markdown",
   "metadata": {},
   "source": [
    "# 1. Importing Libraries & Data"
   ]
  },
  {
   "cell_type": "code",
   "execution_count": 1,
   "metadata": {
    "ExecuteTime": {
     "end_time": "2024-12-03T11:59:09.095089Z",
     "start_time": "2024-12-03T11:59:08.336513Z"
    }
   },
   "outputs": [],
   "source": [
    "# Data manipulation\n",
    "import pandas as pd\n",
    "\n",
    "# Clustering algorithms\n",
    "from sklearn.cluster import DBSCAN, HDBSCAN, MeanShift, OPTICS\n",
    "\n",
    "# Visualizations\n",
    "import matplotlib.pyplot as plt\n",
    "\n",
    "# Utils\n",
    "from functions import *"
   ]
  },
  {
   "cell_type": "code",
   "execution_count": 2,
   "metadata": {},
   "outputs": [
    {
     "data": {
      "text/html": [
       "<div>\n",
       "<style scoped>\n",
       "    .dataframe tbody tr th:only-of-type {\n",
       "        vertical-align: middle;\n",
       "    }\n",
       "\n",
       "    .dataframe tbody tr th {\n",
       "        vertical-align: top;\n",
       "    }\n",
       "\n",
       "    .dataframe thead th {\n",
       "        text-align: right;\n",
       "    }\n",
       "</style>\n",
       "<table border=\"1\" class=\"dataframe\">\n",
       "  <thead>\n",
       "    <tr style=\"text-align: right;\">\n",
       "      <th></th>\n",
       "      <th>customer_age</th>\n",
       "      <th>vendor_count</th>\n",
       "      <th>product_count</th>\n",
       "      <th>is_chain</th>\n",
       "      <th>first_order</th>\n",
       "      <th>last_order</th>\n",
       "      <th>CUI_American</th>\n",
       "      <th>CUI_Asian</th>\n",
       "      <th>CUI_Beverages</th>\n",
       "      <th>CUI_Cafe</th>\n",
       "      <th>...</th>\n",
       "      <th>20_23h</th>\n",
       "      <th>customer_region</th>\n",
       "      <th>last_promo</th>\n",
       "      <th>payment_method</th>\n",
       "      <th>promo_DELIVERY</th>\n",
       "      <th>promo_DISCOUNT</th>\n",
       "      <th>promo_FREEBIE</th>\n",
       "      <th>pay_CARD</th>\n",
       "      <th>pay_CASH</th>\n",
       "      <th>is_repeat_customer</th>\n",
       "    </tr>\n",
       "    <tr>\n",
       "      <th>customer_id</th>\n",
       "      <th></th>\n",
       "      <th></th>\n",
       "      <th></th>\n",
       "      <th></th>\n",
       "      <th></th>\n",
       "      <th></th>\n",
       "      <th></th>\n",
       "      <th></th>\n",
       "      <th></th>\n",
       "      <th></th>\n",
       "      <th></th>\n",
       "      <th></th>\n",
       "      <th></th>\n",
       "      <th></th>\n",
       "      <th></th>\n",
       "      <th></th>\n",
       "      <th></th>\n",
       "      <th></th>\n",
       "      <th></th>\n",
       "      <th></th>\n",
       "      <th></th>\n",
       "    </tr>\n",
       "  </thead>\n",
       "  <tbody>\n",
       "    <tr>\n",
       "      <th>1b8f824d5e</th>\n",
       "      <td>18.0</td>\n",
       "      <td>2.0</td>\n",
       "      <td>5.0</td>\n",
       "      <td>1.0</td>\n",
       "      <td>0</td>\n",
       "      <td>1</td>\n",
       "      <td>0.00</td>\n",
       "      <td>0.00</td>\n",
       "      <td>0.0</td>\n",
       "      <td>0.0</td>\n",
       "      <td>...</td>\n",
       "      <td>0.0</td>\n",
       "      <td>2360</td>\n",
       "      <td>DELIVERY</td>\n",
       "      <td>DIGI</td>\n",
       "      <td>1</td>\n",
       "      <td>0</td>\n",
       "      <td>0</td>\n",
       "      <td>0</td>\n",
       "      <td>0</td>\n",
       "      <td>1</td>\n",
       "    </tr>\n",
       "    <tr>\n",
       "      <th>5d272b9dcb</th>\n",
       "      <td>17.0</td>\n",
       "      <td>2.0</td>\n",
       "      <td>2.0</td>\n",
       "      <td>2.0</td>\n",
       "      <td>0</td>\n",
       "      <td>1</td>\n",
       "      <td>12.82</td>\n",
       "      <td>6.39</td>\n",
       "      <td>0.0</td>\n",
       "      <td>0.0</td>\n",
       "      <td>...</td>\n",
       "      <td>0.0</td>\n",
       "      <td>8670</td>\n",
       "      <td>DISCOUNT</td>\n",
       "      <td>DIGI</td>\n",
       "      <td>0</td>\n",
       "      <td>1</td>\n",
       "      <td>0</td>\n",
       "      <td>0</td>\n",
       "      <td>0</td>\n",
       "      <td>1</td>\n",
       "    </tr>\n",
       "    <tr>\n",
       "      <th>f6d1b2ba63</th>\n",
       "      <td>38.0</td>\n",
       "      <td>1.0</td>\n",
       "      <td>2.0</td>\n",
       "      <td>2.0</td>\n",
       "      <td>0</td>\n",
       "      <td>1</td>\n",
       "      <td>9.20</td>\n",
       "      <td>0.00</td>\n",
       "      <td>0.0</td>\n",
       "      <td>0.0</td>\n",
       "      <td>...</td>\n",
       "      <td>0.0</td>\n",
       "      <td>4660</td>\n",
       "      <td>DISCOUNT</td>\n",
       "      <td>CASH</td>\n",
       "      <td>0</td>\n",
       "      <td>1</td>\n",
       "      <td>0</td>\n",
       "      <td>0</td>\n",
       "      <td>1</td>\n",
       "      <td>1</td>\n",
       "    </tr>\n",
       "  </tbody>\n",
       "</table>\n",
       "<p>3 rows × 43 columns</p>\n",
       "</div>"
      ],
      "text/plain": [
       "             customer_age  vendor_count  product_count  is_chain  first_order  \\\n",
       "customer_id                                                                     \n",
       "1b8f824d5e           18.0           2.0            5.0       1.0            0   \n",
       "5d272b9dcb           17.0           2.0            2.0       2.0            0   \n",
       "f6d1b2ba63           38.0           1.0            2.0       2.0            0   \n",
       "\n",
       "             last_order  CUI_American  CUI_Asian  CUI_Beverages  CUI_Cafe  \\\n",
       "customer_id                                                                 \n",
       "1b8f824d5e            1          0.00       0.00            0.0       0.0   \n",
       "5d272b9dcb            1         12.82       6.39            0.0       0.0   \n",
       "f6d1b2ba63            1          9.20       0.00            0.0       0.0   \n",
       "\n",
       "             ...  20_23h  customer_region  last_promo  payment_method  \\\n",
       "customer_id  ...                                                        \n",
       "1b8f824d5e   ...     0.0             2360    DELIVERY            DIGI   \n",
       "5d272b9dcb   ...     0.0             8670    DISCOUNT            DIGI   \n",
       "f6d1b2ba63   ...     0.0             4660    DISCOUNT            CASH   \n",
       "\n",
       "             promo_DELIVERY  promo_DISCOUNT  promo_FREEBIE  pay_CARD  \\\n",
       "customer_id                                                            \n",
       "1b8f824d5e                1               0              0         0   \n",
       "5d272b9dcb                0               1              0         0   \n",
       "f6d1b2ba63                0               1              0         0   \n",
       "\n",
       "             pay_CASH  is_repeat_customer  \n",
       "customer_id                                \n",
       "1b8f824d5e          0                   1  \n",
       "5d272b9dcb          0                   1  \n",
       "f6d1b2ba63          1                   1  \n",
       "\n",
       "[3 rows x 43 columns]"
      ]
     },
     "execution_count": 2,
     "metadata": {},
     "output_type": "execute_result"
    }
   ],
   "source": [
    "# change data file\n",
    "data = pd.read_csv('data/data_capped.csv', index_col = \"customer_id\")\n",
    "data.head(3)"
   ]
  },
  {
   "cell_type": "code",
   "execution_count": 3,
   "metadata": {},
   "outputs": [],
   "source": [
    "num_variables = ['customer_age', 'vendor_count', 'product_count', 'is_chain',\n",
    "       'first_order', 'last_order', 'CUI_American', 'CUI_Asian',\n",
    "       'CUI_Beverages', 'CUI_Cafe', 'CUI_Chicken Dishes', 'CUI_Chinese',\n",
    "       'CUI_Desserts', 'CUI_Healthy', 'CUI_Indian', 'CUI_Italian',\n",
    "       'CUI_Japanese', 'CUI_Noodle Dishes', 'CUI_OTHER',\n",
    "       'CUI_Street Food / Snacks', 'CUI_Thai', 'days_between', 'total_orders',\n",
    "       'avg_order_hour', 'total_spend', 'avg_spend_prod',\n",
    "       '1_7h', '8_14h', '15_19h', '20_23h']"
   ]
  },
  {
   "cell_type": "markdown",
   "metadata": {},
   "source": [
    "# 2. Density-based\n",
    "\n",
    "<a href=\"#top\">Top &#129033;</a>"
   ]
  },
  {
   "cell_type": "markdown",
   "metadata": {},
   "source": [
    "## 2.1 DBScan"
   ]
  },
  {
   "cell_type": "code",
   "execution_count": 4,
   "metadata": {},
   "outputs": [
    {
     "data": {
      "text/plain": [
       "dbscan_cluster_1\n",
       " 0    31626\n",
       "-1      192\n",
       " 1       10\n",
       "Name: count, dtype: int64"
      ]
     },
     "execution_count": 4,
     "metadata": {},
     "output_type": "execute_result"
    }
   ],
   "source": [
    "dbscan = DBSCAN(eps=15, min_samples=5)  \n",
    "data['dbscan_cluster_1'] = dbscan.fit_predict(data[num_variables])\n",
    "data['dbscan_cluster_1'].value_counts()"
   ]
  },
  {
   "cell_type": "code",
   "execution_count": 5,
   "metadata": {},
   "outputs": [
    {
     "data": {
      "image/png": "[encoded data removed]",
      "text/plain": [
       "<Figure size 640x480 with 1 Axes>"
      ]
     },
     "metadata": {},
     "output_type": "display_data"
    }
   ],
   "source": [
    "# Create a bar chart of the number of customers in each cluster\n",
    "cluster_counts = data[num_variables + ['dbscan_cluster_1']].groupby(['dbscan_cluster_1']).size()\n",
    "ax = cluster_counts.plot(kind='bar', color='#4CAF50')\n",
    "\n",
    "# Add labels to the x and y axes\n",
    "plt.xlabel('Cluster')\n",
    "plt.ylabel('Number of Customers')\n",
    "plt.xticks(rotation=0)\n",
    "\n",
    "# Show the plot\n",
    "plt.show()"
   ]
  },
  {
   "cell_type": "markdown",
   "metadata": {},
   "source": [
    "## 2.2 HDBScan"
   ]
  },
  {
   "cell_type": "code",
   "execution_count": 6,
   "metadata": {},
   "outputs": [
    {
     "data": {
      "text/plain": [
       "hdbscan_cluster_1\n",
       " 0    31626\n",
       "-1      192\n",
       " 1       10\n",
       "Name: count, dtype: int64"
      ]
     },
     "execution_count": 6,
     "metadata": {},
     "output_type": "execute_result"
    }
   ],
   "source": [
    "hdbscan = HDBSCAN(min_cluster_size=10)\n",
    "data['hdbscan_cluster_1'] = dbscan.fit_predict(data[num_variables])\n",
    "data['hdbscan_cluster_1'].value_counts()"
   ]
  },
  {
   "cell_type": "code",
   "execution_count": 7,
   "metadata": {},
   "outputs": [
    {
     "data": {
      "image/png": "[encoded data removed]",
      "text/plain": [
       "<Figure size 640x480 with 1 Axes>"
      ]
     },
     "metadata": {},
     "output_type": "display_data"
    }
   ],
   "source": [
    "# Create a bar chart of the number of customers in each cluster\n",
    "cluster_counts = data[num_variables + ['hdbscan_cluster_1']].groupby(['hdbscan_cluster_1']).size()\n",
    "ax = cluster_counts.plot(kind='bar', color='#4CAF50')\n",
    "\n",
    "# Add labels to the x and y axes\n",
    "plt.xlabel('Cluster')\n",
    "plt.ylabel('Number of Customers')\n",
    "plt.xticks(rotation=0)\n",
    "\n",
    "# Show the plot\n",
    "plt.show()"
   ]
  },
  {
   "cell_type": "markdown",
   "metadata": {},
   "source": [
    "## 2.3 Meanshift"
   ]
  },
  {
   "cell_type": "code",
   "execution_count": 8,
   "metadata": {},
   "outputs": [
    {
     "data": {
      "text/plain": [
       "meanshift_cluster_1\n",
       "0    31828\n",
       "Name: count, dtype: int64"
      ]
     },
     "execution_count": 8,
     "metadata": {},
     "output_type": "execute_result"
    }
   ],
   "source": [
    "meanshift = MeanShift(bin_seeding = True)\n",
    "data['meanshift_cluster_1'] = meanshift.fit_predict(data[num_variables])\n",
    "data['meanshift_cluster_1'].value_counts()"
   ]
  },
  {
   "cell_type": "code",
   "execution_count": 9,
   "metadata": {},
   "outputs": [
    {
     "data": {
      "image/png": "[encoded data removed]",
      "text/plain": [
       "<Figure size 640x480 with 1 Axes>"
      ]
     },
     "metadata": {},
     "output_type": "display_data"
    }
   ],
   "source": [
    "# Create a bar chart of the number of customers in each cluster\n",
    "cluster_counts = data[num_variables + ['meanshift_cluster_1']].groupby(['meanshift_cluster_1']).size()\n",
    "ax = cluster_counts.plot(kind='bar', color='#4CAF50')\n",
    "\n",
    "# Add labels to the x and y axes\n",
    "plt.xlabel('Cluster')\n",
    "plt.ylabel('Number of Customers')\n",
    "plt.xticks(rotation=0)\n",
    "\n",
    "# Show the plot\n",
    "plt.show()"
   ]
  },
  {
   "cell_type": "markdown",
   "metadata": {},
   "source": [
    "## 2.4 OPTICS"
   ]
  },
  {
   "cell_type": "code",
   "execution_count": 10,
   "metadata": {},
   "outputs": [
    {
     "data": {
      "text/plain": [
       "optics_cluster_1\n",
       "0    31828\n",
       "Name: count, dtype: int64"
      ]
     },
     "execution_count": 10,
     "metadata": {},
     "output_type": "execute_result"
    }
   ],
   "source": [
    "optics = OPTICS(min_samples=30)\n",
    "data['optics_cluster_1'] = optics.fit_predict(data[num_variables])\n",
    "data['optics_cluster_1'].value_counts()"
   ]
  },
  {
   "cell_type": "code",
   "execution_count": 11,
   "metadata": {},
   "outputs": [
    {
     "data": {
      "image/png": "[encoded data removed]",
      "text/plain": [
       "<Figure size 640x480 with 1 Axes>"
      ]
     },
     "metadata": {},
     "output_type": "display_data"
    }
   ],
   "source": [
    "# Create a bar chart of the number of customers in each cluster\n",
    "cluster_counts = data[num_variables + ['optics_cluster_1']].groupby(['optics_cluster_1']).size()\n",
    "ax = cluster_counts.plot(kind='bar', color='#4CAF50')\n",
    "\n",
    "# Add labels to the x and y axes\n",
    "plt.xlabel('Cluster')\n",
    "plt.ylabel('Number of Customers')\n",
    "plt.xticks(rotation=0)\n",
    "\n",
    "# Show the plot\n",
    "plt.show()"
   ]
  }
 ],
 "metadata": {
  "kernelspec": {
   "display_name": "DataMiningProject",
   "language": "python",
   "name": "python3"
  },
  "language_info": {
   "codemirror_mode": {
    "name": "ipython",
    "version": 3
   },
   "file_extension": ".py",
   "mimetype": "text/x-python",
   "name": "python",
   "nbconvert_exporter": "python",
   "pygments_lexer": "ipython3",
   "version": "3.12.6"
  }
 },
 "nbformat": 4,
 "nbformat_minor": 2
}
