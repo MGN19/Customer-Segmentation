{
 "cells": [
  {
   "cell_type": "markdown",
   "id": "c456adb3",
   "metadata": {},
   "source": [
    "# <center>Data Mining Project Code</center>\n",
    "\n",
    "** **\n",
    "## <center>*04 - Exploring Clustering Solutions*</center>\n",
    "\n",
    "** **\n",
    "\n",
    "After creating our clustering solutions, we decided to check how the customers where divided according to all variables in our dataset.\n",
    "\n",
    "In this notebook, we start by importing all the data with the labels. After, we start exploring the variables according to the labels attribute to check if we can get any business insights.\n",
    "\n",
    "\n",
    "\n",
    "The members of the `team` are:\n",
    "- Ana Farinha  - 20211514\n",
    "- António Oliveira - 20211595\n",
    "- Mariana Neto - 20211527\n",
    "- Salvador Domingues - 20240597\n"
   ]
  },
  {
   "cell_type": "markdown",
   "id": "6eeb3166",
   "metadata": {},
   "source": [
    "# Table of Contents\n",
    "\n",
    "<a class=\"anchor\" id=\"top\"></a>\n",
    "\n",
    "\n",
    "1. [Importing Libraries & Data](#1.-Importing-Libraries-&-Data) <br><br>\n",
    "\n",
    "1. [Cluster Analysis](#2.-Cluster-Analysis) <br><br>\n"
   ]
  },
  {
   "cell_type": "markdown",
   "id": "a15a7207",
   "metadata": {},
   "source": [
    "# 1. Importing Libraries & Data"
   ]
  },
  {
   "cell_type": "code",
   "execution_count": 1,
   "id": "7f2fc48a",
   "metadata": {
    "ExecuteTime": {
     "end_time": "2025-01-04T17:06:07.726515Z",
     "start_time": "2025-01-04T17:06:05.730466Z"
    }
   },
   "outputs": [],
   "source": [
    "import numpy as np\n",
    "import matplotlib.pyplot as plt\n",
    "import pandas as pd\n",
    "\n",
    "import visualizations_by_cluster as v"
   ]
  },
  {
   "cell_type": "code",
   "execution_count": 11,
   "id": "ae69a4b7",
   "metadata": {
    "ExecuteTime": {
     "end_time": "2025-01-04T17:13:29.411187Z",
     "start_time": "2025-01-04T17:13:29.080543Z"
    }
   },
   "outputs": [],
   "source": [
    "data = pd.read_csv('./data/data.csv', \n",
    "                   index_col = \"customer_id\")"
   ]
  },
  {
   "cell_type": "markdown",
   "id": "24943ccb",
   "metadata": {},
   "source": [
    "**Label Dfs**"
   ]
  },
  {
   "cell_type": "code",
   "execution_count": 12,
   "id": "922a880f",
   "metadata": {
    "ExecuteTime": {
     "end_time": "2025-01-04T17:13:30.784270Z",
     "start_time": "2025-01-04T17:13:30.691035Z"
    }
   },
   "outputs": [],
   "source": [
    "temp_data = pd.read_csv('./data/labels/temp_data.csv',\n",
    "                        index_col = 'customer_id' )"
   ]
  },
  {
   "cell_type": "code",
   "execution_count": 13,
   "id": "90081d01",
   "metadata": {
    "ExecuteTime": {
     "end_time": "2025-01-04T17:13:32.876258Z",
     "start_time": "2025-01-04T17:13:32.871722Z"
    }
   },
   "outputs": [],
   "source": [
    "data['temp_data_labels'] = temp_data['temp_data_labels']"
   ]
  },
  {
   "cell_type": "markdown",
   "id": "e48f575d",
   "metadata": {},
   "source": [
    "# 2. Cluster Analysis\n",
    "\n",
    "<a href=\"#top\">Top &#129033;</a>"
   ]
  },
  {
   "cell_type": "code",
   "execution_count": null,
   "id": "6c3d3009",
   "metadata": {},
   "outputs": [],
   "source": []
  }
 ],
 "metadata": {
  "kernelspec": {
   "display_name": "Python 3 (ipykernel)",
   "language": "python",
   "name": "python3"
  },
  "language_info": {
   "codemirror_mode": {
    "name": "ipython",
    "version": 3
   },
   "file_extension": ".py",
   "mimetype": "text/x-python",
   "name": "python",
   "nbconvert_exporter": "python",
   "pygments_lexer": "ipython3",
   "version": "3.11.9"
  }
 },
 "nbformat": 4,
 "nbformat_minor": 5
}
