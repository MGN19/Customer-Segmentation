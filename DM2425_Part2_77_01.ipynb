{
 "cells": [
  {
   "cell_type": "markdown",
   "metadata": {
    "vscode": {
     "languageId": "plaintext"
    }
   },
   "source": [
    "# <center>Data Mining Project Code</center>\n",
    "\n",
    "** **\n",
    "## <center>*02 - XXXXXXXX*</center>\n",
    "\n",
    "** **\n",
    "\n",
    "Consumers today are becoming more selective about where they buy their products and where they spend their money. Consequently, it is essencial for companies to better understand their clients, being able to tailor sales and discounts to certain groups of customers.\n",
    "\n",
    "Knowing this, the goal of this project is to divide customers of `ABCDEats Inc.` into smaller groups, whose clients have similar characteristics and purchasing behaviours.\n",
    "\n",
    "The second  notebook of this project consists of the .......\n",
    "\n",
    "This project was presented to the `TargetSphere Advisors`, a group of Consultants, Business Analysts and Data Scientists who focus on delivering Customer Segementation solutions for small and medium-sized businesses.\n",
    "\n",
    "The members of the `team` are:\n",
    "- Ana Farinha  - 20211514\n",
    "- António Oliveira - 20211595\n",
    "- Mariana Neto - 20211527\n",
    "- Salvador Domingues - 20240597\n"
   ]
  },
  {
   "cell_type": "markdown",
   "metadata": {},
   "source": [
    "# Table of Contents\n",
    "\n",
    "<a class=\"anchor\" id=\"top\"></a>\n",
    "\n",
    "\n",
    "1. [Importing Libraries & Data](#1.-Importing-Libraries-&-Data) <br><br>\n",
    " "
   ]
  },
  {
   "cell_type": "markdown",
   "metadata": {},
   "source": [
    "# 1. Importing Libraries & Data"
   ]
  },
  {
   "cell_type": "code",
   "execution_count": 1,
   "metadata": {
    "ExecuteTime": {
     "end_time": "2024-11-20T18:04:54.991961Z",
     "start_time": "2024-11-20T18:04:47.800876Z"
    }
   },
   "outputs": [],
   "source": [
    "import pandas as pd"
   ]
  },
  {
   "cell_type": "code",
   "execution_count": null,
   "metadata": {},
   "outputs": [],
   "source": [
    "dataset_name = None\n",
    "\n",
    "data = pd.read_csv(f'data/{dataset_name}.csv', index_col = \"customer_id\")\n",
    "data.head(3)"
   ]
  },
  {
   "cell_type": "markdown",
   "metadata": {},
   "source": [
    "Missing values -> KNN Imputer + corr<br>\n",
    "Outliers -> <br>\n",
    "Feature Selection -> var, corr <br>\n",
    "(+ features?)"
   ]
  },
  {
   "cell_type": "code",
   "execution_count": null,
   "metadata": {},
   "outputs": [],
   "source": []
  }
 ],
 "metadata": {
  "kernelspec": {
   "display_name": "Python 3 (ipykernel)",
   "language": "python",
   "name": "python3"
  },
  "language_info": {
   "codemirror_mode": {
    "name": "ipython",
    "version": 3
   },
   "file_extension": ".py",
   "mimetype": "text/x-python",
   "name": "python",
   "nbconvert_exporter": "python",
   "pygments_lexer": "ipython3",
   "version": "3.11.9"
  }
 },
 "nbformat": 4,
 "nbformat_minor": 2
}
